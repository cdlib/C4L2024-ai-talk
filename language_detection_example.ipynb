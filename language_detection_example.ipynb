{
  "cells": [
    {
      "cell_type": "code",
      "execution_count": null,
      "metadata": {
        "id": "Ct9YJrozdUPR"
      },
      "outputs": [],
      "source": []
    },
    {
      "cell_type": "markdown",
      "source": [
        "# STOP - This is a read-only jupyter notebook. Save a copy.\n",
        "\n",
        "Please save a copy in your drive so you will be able to run and modify the code on your copy.\n",
        "\n",
        "`\"File\" > \"Save a copy in Drive\"`"
      ],
      "metadata": {
        "id": "e4UUn8-wyOLF"
      }
    },
    {
      "cell_type": "markdown",
      "source": [
        "# Getting started with AI\n",
        "\n",
        "This notebook goes through some examples of some simplier ways of using AI with little to no experience with AI models. It's going to walk through an example problem using different methods. The hope is that some of these simplier methods may be available and effective for other use cases.\n",
        "\n",
        "Will walk through using:\n",
        "1. Packaged Library\n",
        "2. LLM API*\n",
        "3. Hugging Face Model\n",
        "\n",
        "*For the LLM, an OpenAI API key is required."
      ],
      "metadata": {
        "id": "hWbGV0TbBJk6"
      }
    },
    {
      "cell_type": "markdown",
      "metadata": {
        "id": "R3hUwPORdZfe"
      },
      "source": [
        "# Language Detection Example\n",
        "\n",
        "Let's say we want to detect language used in the title field to confirm if it was cataloged in the language of the material. For this example, we will use this Japanese title \"南品傀儡 青海舎主人述 亀毛[兎角亭亀毛]画\" taken from a MARC 245 field in a [HathiTrust record](https://catalog.hathitrust.org/Record/100069174.marc), stripped of punctuation. The item is available for [full view](https://babel.hathitrust.org/cgi/pt?id=keio.10812569024). We will explore using models to detect the language of the title."
      ]
    },
    {
      "cell_type": "markdown",
      "metadata": {
        "id": "57CW34s5JyZ6"
      },
      "source": [
        "\n",
        "\n",
        "## Method 1: Use a Packaged Library\n",
        "The easiest thing to do is hunt for a well-supported library package with model. Fortunately, language detection has been worked on extensively, and there is already a package ready to use. For this example will use [fastText](https://fasttext.cc/), a library which can use a few different models for text related tasks. We need to download the library, and also the [language detection model](https://fasttext.cc/docs/en/language-identification.html) to load in the library. The model can detect 176 different languages."
      ]
    },
    {
      "cell_type": "code",
      "execution_count": 1,
      "metadata": {
        "colab": {
          "base_uri": "https://localhost:8080/"
        },
        "id": "p8ZJKco_hSGl",
        "outputId": "dee802ba-ac05-4043-e92e-932008d71e16"
      },
      "outputs": [
        {
          "output_type": "stream",
          "name": "stdout",
          "text": [
            "Requirement already satisfied: fasttext in /usr/local/lib/python3.10/dist-packages (0.9.2)\n",
            "Requirement already satisfied: pybind11>=2.2 in /usr/local/lib/python3.10/dist-packages (from fasttext) (2.12.0)\n",
            "Requirement already satisfied: setuptools>=0.7.0 in /usr/local/lib/python3.10/dist-packages (from fasttext) (67.7.2)\n",
            "Requirement already satisfied: numpy in /usr/local/lib/python3.10/dist-packages (from fasttext) (1.25.2)\n",
            "Model already downloaded: /content/lid.176.bin\n"
          ]
        }
      ],
      "source": [
        "import os\n",
        "\n",
        "# Install FastText python libary\n",
        "# More info: https://fasttext.cc/\n",
        "!pip install fasttext\n",
        "\n",
        "# Download the uncompressed model for the library for language detection.\n",
        "# More info: https://fasttext.cc/docs/en/language-identification.html\n",
        "\n",
        "# Define the file path and URL\n",
        "fasttext_model_filepath = '/content/lid.176.bin'\n",
        "url = 'https://dl.fbaipublicfiles.com/fasttext/supervised-models/lid.176.bin'\n",
        "\n",
        "# Check if the file already exists\n",
        "if not os.path.exists(fasttext_model_filepath):\n",
        "    # If the file does not exist, download it\n",
        "    !wget {url} -O {fasttext_model_filepath}\n",
        "else:\n",
        "    print(\"Model already downloaded: {}\".format(fasttext_model_filepath))\n"
      ]
    },
    {
      "cell_type": "markdown",
      "metadata": {
        "id": "bT-O8uCCNWby"
      },
      "source": [
        "### Simple Detection Script\n",
        "In just a few steps we get the model to correctly guess the title is japanese."
      ]
    },
    {
      "cell_type": "code",
      "execution_count": 2,
      "metadata": {
        "colab": {
          "base_uri": "https://localhost:8080/"
        },
        "id": "SWG8JU9cfA2y",
        "outputId": "2ff54fc2-5900-4f2b-9bde-79edde99742f"
      },
      "outputs": [
        {
          "output_type": "stream",
          "name": "stderr",
          "text": [
            "Warning : `load_model` does not return WordVectorModel or SupervisedModel any more, but a `FastText` object which is very similar.\n"
          ]
        },
        {
          "output_type": "stream",
          "name": "stdout",
          "text": [
            "Detected language: ja\n"
          ]
        }
      ],
      "source": [
        "import fasttext\n",
        "\n",
        "# Set title text for language detection\n",
        "title = \"南品傀儡 青海舎主人述 亀毛[兎角亭亀毛]画\"\n",
        "\n",
        "# Load the pre-trained language detection model\n",
        "model = fasttext.load_model(fasttext_model_filepath)\n",
        "\n",
        "# Simple function to detect language with the model\n",
        "model_output = model.predict(title)\n",
        "\n",
        "# Clean up output to get language code\n",
        "language = model_output[0][0].replace(\"__label__\", \"\")\n",
        "\n",
        "print(f\"Detected language: {language}\")\n"
      ]
    },
    {
      "cell_type": "markdown",
      "metadata": {
        "id": "Pne9DWssOqoF"
      },
      "source": [
        "### The Model Output\n",
        " Let's take a closer look the model output which is more complex than returning a simple language code. The model returns a tuple, the label and the confidence score.\n",
        "\n"
      ]
    },
    {
      "cell_type": "code",
      "execution_count": 3,
      "metadata": {
        "colab": {
          "base_uri": "https://localhost:8080/"
        },
        "id": "mEK1Js9KOlp_",
        "outputId": "a53c3de6-8db7-40ef-bca3-16a4a87e90ad"
      },
      "outputs": [
        {
          "output_type": "stream",
          "name": "stdout",
          "text": [
            "(('__label__ja',), array([0.69136173]))\n"
          ]
        }
      ],
      "source": [
        "print(model.predict(title))"
      ]
    },
    {
      "cell_type": "markdown",
      "metadata": {
        "id": "OOtNWb9KQfG4"
      },
      "source": [
        " ```\n",
        " (('__label__ja',), array([0.69136173]))\n",
        " ```\n",
        "\n",
        "*   The label is `\"__label__ja\"` for the ISO 639-1 code \"ja\" (Japanese). The (__label__) is a naming convention often used in specific machine learning tools for labeling.\n",
        "\n",
        "*   The cofidence score is 0.69136173 (69%). This number represents the [confidence score ](https://www.mindee.com/blog/how-use-confidence-scores-ml-models#most-common-machine-learning-confidence-scores)or probability that the model assigns to its prediction of `__label__ja`. It's based on the data it's seen in training, so if the data you are using is somewhat or very different than the original training data, these confidence scores may not be well-calibrated. The model may be over or under confident. This is something to keep in mind when relying on confidence scores.\n",
        "\n",
        "## What other languages make up the 31%?\n",
        "\n",
        "Another thing we can do with this model is get all of the top predictions for the text. We can see the possiblities by passing in `k` parameter with all the top predictions.\n"
      ]
    },
    {
      "cell_type": "code",
      "execution_count": 4,
      "metadata": {
        "colab": {
          "base_uri": "https://localhost:8080/"
        },
        "id": "VG3647kdR7iM",
        "outputId": "47d3e19a-1083-4bab-e043-97ab43ac95bb"
      },
      "outputs": [
        {
          "output_type": "stream",
          "name": "stdout",
          "text": [
            "(('__label__ja', '__label__zh', '__label__en', '__label__es', '__label__ko'), array([0.69136173, 0.29256272, 0.0096868 , 0.00158292, 0.00132226]))\n"
          ]
        }
      ],
      "source": [
        "print(model.predict(title, k=5))\n"
      ]
    },
    {
      "cell_type": "markdown",
      "metadata": {
        "id": "VQ0e7O05Sggb"
      },
      "source": [
        "We now have multiple language codes and probabilities. Let's clean it up so it's easier to read with some helper functions to use in the rest of the notebook."
      ]
    },
    {
      "cell_type": "code",
      "execution_count": 5,
      "metadata": {
        "colab": {
          "base_uri": "https://localhost:8080/"
        },
        "id": "4e_8by92Sfnk",
        "outputId": "cf779d43-bda4-4c5c-9bb4-13ce83d36989"
      },
      "outputs": [
        {
          "output_type": "stream",
          "name": "stdout",
          "text": [
            "Requirement already satisfied: pycountry in /usr/local/lib/python3.10/dist-packages (23.12.11)\n"
          ]
        }
      ],
      "source": [
        "# install pycountry to map to the codes.\n",
        "!pip install pycountry"
      ]
    },
    {
      "cell_type": "code",
      "execution_count": 6,
      "metadata": {
        "id": "mom0v_70UHJw"
      },
      "outputs": [],
      "source": [
        "# Define helper functions for pretty print\n",
        "import pycountry\n",
        "\n",
        "def pprint_language_codes(labels, scores):\n",
        "    for label, score in zip(labels, scores):\n",
        "        # Check the length of the label to determine if it's alpha_2 or alpha_3\n",
        "        if len(label) == 2:\n",
        "            language = pycountry.languages.get(alpha_2=label)\n",
        "        elif len(label) == 3:\n",
        "            language = pycountry.languages.get(alpha_3=label)\n",
        "        else:\n",
        "            language = None\n",
        "\n",
        "        # Get language name or use \"Unknown\" if not found\n",
        "        language_name = language.name if language else \"Unknown\"\n",
        "\n",
        "        # Convert to percentage and round\n",
        "        percentage = round(score * 100, 2)\n",
        "\n",
        "        # Print the language details with confidence percentage\n",
        "        print(f\"Language: {language_name} ({label}), Confidence: {percentage}%\")\n",
        "\n",
        "def clean_labels(labels):\n",
        "  # Remove the prefix '__label__' from each label in the tuple\n",
        "  cleaned = tuple(label.replace('__label__', '') for label in labels)\n",
        "  return cleaned\n",
        "\n",
        "import time\n",
        "from contextlib import contextmanager\n",
        "\n",
        "# a timer method will be useful in comparing time\n",
        "@contextmanager\n",
        "def timer(description: str):\n",
        "    start_time = time.time()\n",
        "    try:\n",
        "        yield\n",
        "    finally:\n",
        "        elapsed_time = time.time() - start_time\n",
        "        print(f\"{description}: {elapsed_time:.2f} seconds\")"
      ]
    },
    {
      "cell_type": "code",
      "execution_count": 7,
      "metadata": {
        "id": "hG3hXSqqTDxl",
        "colab": {
          "base_uri": "https://localhost:8080/"
        },
        "outputId": "588f8b10-8d2c-459f-e9be-b5b34816f8e8"
      },
      "outputs": [
        {
          "output_type": "stream",
          "name": "stdout",
          "text": [
            "Language: Japanese (ja), Confidence: 69.14%\n",
            "Language: Chinese (zh), Confidence: 29.26%\n",
            "Language: English (en), Confidence: 0.97%\n",
            "Language: Spanish (es), Confidence: 0.16%\n",
            "Language: Korean (ko), Confidence: 0.13%\n"
          ]
        }
      ],
      "source": [
        "labels, codes = model.predict(title, k=5)\n",
        "labels = clean_labels(labels)\n",
        "pprint_language_codes(labels,codes)"
      ]
    },
    {
      "cell_type": "markdown",
      "metadata": {
        "id": "c5sHExTYVVeX"
      },
      "source": [
        "From this output we see Chinese is a respectable second at 29%. Time to consult ChatGPT 4 for some theories about it. Below is a summarization.\n",
        "\n",
        "### Why is Chinese scoring so high for a Japanese text?\n",
        "\n",
        "1. Japanese uses three types of scripts: Kanji, Hiragana, and Katakana. Kanji are derived from Chinese characters and are identical in form to many traditional Chinese characters. When Japanese text predominantly features Kanji, it can look very similar to Chinese text. The can share the same Unicode code points because they are visually identical or very similar.\n",
        "2. There is not a lot of context in a title. The less characters, the less context the model has to make a good decision.\n",
        "\n",
        "__An additional note__: Language models might not always accurately identify languages that share common scripts. If a model has been trained predominantly on data where Chinese characters are used more frequently in Chinese contexts, it might be biased towards predicting Chinese when it encounters similar characters in an ambiguous setting.\n",
        "\n",
        "OpenAI. (2024). ChatGPT (GPT 4 May 7 version) [Large language model]."
      ]
    },
    {
      "cell_type": "markdown",
      "source": [
        "### How about titles in other languages?\n",
        "\n",
        "Let's add an Arabic (ar) and Slavik (sk) title to play around with as well. You can see below when we run it with fasttext, it's incredibly confident the ar title is Arabic, and fairly confident in the Slovak title. If we had more information than just a title, our model could likely have more confidence. Only you can tell if this will be acceptable in the context your model will be used."
      ],
      "metadata": {
        "id": "SjzP-h9p8MYs"
      }
    },
    {
      "cell_type": "code",
      "execution_count": 8,
      "metadata": {
        "id": "iWKzvvn01yzO"
      },
      "outputs": [],
      "source": [
        "title_ja = \"南品傀儡 青海舎主人述 亀毛[兎角亭亀毛]画\"\n",
        "title_ar = \"دراسات سكانية\"\n",
        "title_sk = \"Trávnice slovenských národných piesní Na klavír pristrojíl Miroslav Francisci\""
      ]
    },
    {
      "cell_type": "code",
      "execution_count": 9,
      "metadata": {
        "id": "UAn7YYVcIgp8",
        "colab": {
          "base_uri": "https://localhost:8080/"
        },
        "outputId": "b572288f-d1a9-4847-f7ee-d6e90c2303eb"
      },
      "outputs": [
        {
          "output_type": "stream",
          "name": "stdout",
          "text": [
            "Title: دراسات سكانية\n",
            "Language: Arabic (ar), Confidence: 99.78%\n",
            "Language: Egyptian Arabic (arz), Confidence: 0.17%\n",
            "Language: Mazanderani (mzn), Confidence: 0.03%\n",
            "Language: Persian (fa), Confidence: 0.01%\n",
            "Language: Dhivehi (dv), Confidence: 0.01%\n"
          ]
        }
      ],
      "source": [
        "print(\"Title: \" + title_ar)\n",
        "labels, codes = model.predict(title_ar, k=5)\n",
        "labels = clean_labels(labels)\n",
        "pprint_language_codes(labels,codes)"
      ]
    },
    {
      "cell_type": "markdown",
      "source": [
        "The model is incredibly confident this title is in Arabic, nearly 100%."
      ],
      "metadata": {
        "id": "ObLa-fupQ3Jh"
      }
    },
    {
      "cell_type": "code",
      "source": [
        "print(\"Title: \" + title_sk)\n",
        "with timer(\"SK\"):\n",
        "  labels, codes = model.predict(title_sk, k=5)\n",
        "labels = clean_labels(labels)\n",
        "pprint_language_codes(labels,codes)\n"
      ],
      "metadata": {
        "colab": {
          "base_uri": "https://localhost:8080/"
        },
        "id": "5APHnOEzN-02",
        "outputId": "7f25602d-261b-4b36-ea29-1837052e2574"
      },
      "execution_count": 10,
      "outputs": [
        {
          "output_type": "stream",
          "name": "stdout",
          "text": [
            "Title: Trávnice slovenských národných piesní Na klavír pristrojíl Miroslav Francisci\n",
            "SK: 0.00 seconds\n",
            "Language: Slovak (sk), Confidence: 77.42%\n",
            "Language: Czech (cs), Confidence: 22.15%\n",
            "Language: Russian (ru), Confidence: 0.2%\n",
            "Language: Catalan (ca), Confidence: 0.07%\n",
            "Language: Swedish (sv), Confidence: 0.07%\n"
          ]
        }
      ]
    },
    {
      "cell_type": "markdown",
      "source": [
        "The model is moderately confident in Slovak with 77% confidence."
      ],
      "metadata": {
        "id": "wcJdEMZ5REM2"
      }
    },
    {
      "cell_type": "markdown",
      "metadata": {
        "id": "x-_vDCmd1zgG"
      },
      "source": [
        "\n",
        "## So does uncertainty mean for using the model?\n",
        "\n",
        "One of the most significant differences between typical programming scenerios and using a model is that models will have varying degrees of certainty. Some models include a confidence score to help evaluate certainty and risk, but other models do not have any confidence. All models can be confidently wrong, so these risks need to be considered when incorparating AI into any pipeline or application."
      ]
    },
    {
      "cell_type": "markdown",
      "metadata": {
        "id": "wz8i4it4fe3l"
      },
      "source": [
        "## Using LLM API (GPT example)\n",
        "\n",
        "What about using an LLM API? Large language models are powerful models with great language abilities. It's rare to find a packaged library with a model that does exactly what you want, so for the exercise, let's pretend fasttext doesn't exist. The next easiest thing is to see how a LLM performs."
      ]
    },
    {
      "cell_type": "code",
      "execution_count": 11,
      "metadata": {
        "id": "7-zEygeg-f7M",
        "colab": {
          "base_uri": "https://localhost:8080/"
        },
        "outputId": "00c2e884-6b6e-48f7-f7cd-ba3c9060de44"
      },
      "outputs": [
        {
          "output_type": "stream",
          "name": "stdout",
          "text": [
            "Requirement already satisfied: openai in /usr/local/lib/python3.10/dist-packages (1.30.1)\n",
            "Requirement already satisfied: anyio<5,>=3.5.0 in /usr/local/lib/python3.10/dist-packages (from openai) (3.7.1)\n",
            "Requirement already satisfied: distro<2,>=1.7.0 in /usr/lib/python3/dist-packages (from openai) (1.7.0)\n",
            "Requirement already satisfied: httpx<1,>=0.23.0 in /usr/local/lib/python3.10/dist-packages (from openai) (0.27.0)\n",
            "Requirement already satisfied: pydantic<3,>=1.9.0 in /usr/local/lib/python3.10/dist-packages (from openai) (2.7.1)\n",
            "Requirement already satisfied: sniffio in /usr/local/lib/python3.10/dist-packages (from openai) (1.3.1)\n",
            "Requirement already satisfied: tqdm>4 in /usr/local/lib/python3.10/dist-packages (from openai) (4.66.4)\n",
            "Requirement already satisfied: typing-extensions<5,>=4.7 in /usr/local/lib/python3.10/dist-packages (from openai) (4.11.0)\n",
            "Requirement already satisfied: idna>=2.8 in /usr/local/lib/python3.10/dist-packages (from anyio<5,>=3.5.0->openai) (3.7)\n",
            "Requirement already satisfied: exceptiongroup in /usr/local/lib/python3.10/dist-packages (from anyio<5,>=3.5.0->openai) (1.2.1)\n",
            "Requirement already satisfied: certifi in /usr/local/lib/python3.10/dist-packages (from httpx<1,>=0.23.0->openai) (2024.2.2)\n",
            "Requirement already satisfied: httpcore==1.* in /usr/local/lib/python3.10/dist-packages (from httpx<1,>=0.23.0->openai) (1.0.5)\n",
            "Requirement already satisfied: h11<0.15,>=0.13 in /usr/local/lib/python3.10/dist-packages (from httpcore==1.*->httpx<1,>=0.23.0->openai) (0.14.0)\n",
            "Requirement already satisfied: annotated-types>=0.4.0 in /usr/local/lib/python3.10/dist-packages (from pydantic<3,>=1.9.0->openai) (0.6.0)\n",
            "Requirement already satisfied: pydantic-core==2.18.2 in /usr/local/lib/python3.10/dist-packages (from pydantic<3,>=1.9.0->openai) (2.18.2)\n"
          ]
        }
      ],
      "source": [
        "!pip install openai"
      ]
    },
    {
      "cell_type": "markdown",
      "source": [
        "### Setting up a API Key\n",
        "\n",
        "To do this part of the exercise you will need an API key from Open AI. If you don't have one, you will need an Open AI account and setup billing. Open AI charges by input token and ouput token."
      ],
      "metadata": {
        "id": "w7CPHKIbnMzj"
      }
    },
    {
      "cell_type": "code",
      "source": [
        "import openai\n",
        "\n",
        "# Initialize the OpenAI client\n",
        "client = openai.OpenAI(api_key='Your API Key Here')"
      ],
      "metadata": {
        "id": "om2LxxVznDAf"
      },
      "execution_count": 12,
      "outputs": []
    },
    {
      "cell_type": "markdown",
      "source": [
        "### Helper Methods for OpenAI"
      ],
      "metadata": {
        "id": "Dkugj3zz-PYV"
      }
    },
    {
      "cell_type": "code",
      "source": [
        "import openai\n",
        "import json\n",
        "\n",
        "\n",
        "\n",
        "def get_response_from_openai(prompt, model_name):\n",
        "  # Call the API to generate text\n",
        "  completion = client.chat.completions.create(\n",
        "      messages=[\n",
        "          {\n",
        "              \"role\": \"user\",\n",
        "              \"content\": prompt,\n",
        "          }\n",
        "      ],\n",
        "      model=model_name,\n",
        "      temperature=0,\n",
        "      response_format={ \"type\": \"json_object\" }\n",
        "  )\n",
        "  return completion.choices[0].message.content.strip()\n",
        "\n"
      ],
      "metadata": {
        "id": "c4lB_3uQ-vMs"
      },
      "execution_count": 13,
      "outputs": []
    },
    {
      "cell_type": "code",
      "execution_count": 14,
      "metadata": {
        "id": "sJCVG8EXugsz"
      },
      "outputs": [],
      "source": [
        "# helper method for generating prompts\n",
        "def generate_prompt(prompt, data):\n",
        "  return prompt + data"
      ]
    },
    {
      "cell_type": "code",
      "source": [
        "# defining a simple prompt\n",
        "simple_top_5_prompt = \"Predict up to five possible ISO 639-1 language codes,\\\n",
        " ranked by likelihood in json: \"\n",
        "\n",
        "print(generate_prompt(simple_top_5_prompt, title_ja))"
      ],
      "metadata": {
        "colab": {
          "base_uri": "https://localhost:8080/"
        },
        "id": "EXvd7IIrmsyM",
        "outputId": "f867f23c-2b1e-441f-8aea-8296675da628"
      },
      "execution_count": 15,
      "outputs": [
        {
          "output_type": "stream",
          "name": "stdout",
          "text": [
            "Predict up to five possible ISO 639-1 language codes, ranked by likelihood in json: 南品傀儡 青海舎主人述 亀毛[兎角亭亀毛]画\n"
          ]
        }
      ]
    },
    {
      "cell_type": "code",
      "source": [
        "import time\n",
        "from contextlib import contextmanager\n",
        "\n",
        "# helper timer methhod\n",
        "@contextmanager\n",
        "def timer(description: str):\n",
        "    start_time = time.time()\n",
        "    try:\n",
        "        yield\n",
        "    finally:\n",
        "        elapsed_time = time.time() - start_time\n",
        "        print(f\"{description}: {elapsed_time:.2f} seconds\")\n"
      ],
      "metadata": {
        "id": "BxFPeys6JLrs"
      },
      "execution_count": 16,
      "outputs": []
    },
    {
      "cell_type": "code",
      "source": [
        "with timer(\"GPT 3.5 Turbo Model w/ Simple Prompt\"):\n",
        "    simple_top_5_result_35_turbo = get_response_from_openai(generate_prompt(simple_top_5_prompt, title_ja), \"gpt-3.5-turbo-0125\")\n",
        "\n",
        "print(\"Prompt:\" + simple_top_5_prompt)\n",
        "print(\"Data input:\" + title_ja)\n",
        "print(simple_top_5_result_35_turbo)"
      ],
      "metadata": {
        "colab": {
          "base_uri": "https://localhost:8080/"
        },
        "id": "fWSSqyS6_MBH",
        "outputId": "f6b99c8a-bf43-4941-a206-db13b43395b1"
      },
      "execution_count": 17,
      "outputs": [
        {
          "output_type": "stream",
          "name": "stdout",
          "text": [
            "GPT 3.5 Turbo Model w/ Simple Prompt: 0.92 seconds\n",
            "Prompt:Predict up to five possible ISO 639-1 language codes, ranked by likelihood in json: \n",
            "Data input:南品傀儡 青海舎主人述 亀毛[兎角亭亀毛]画\n",
            "{\n",
            "  \"1\": \"zh\",\n",
            "  \"2\": \"ja\",\n",
            "  \"3\": \"ko\",\n",
            "  \"4\": \"vi\",\n",
            "  \"5\": \"th\"\n",
            "}\n"
          ]
        }
      ]
    },
    {
      "cell_type": "code",
      "source": [
        "with timer(\"GPT 4o Model w/ Simple Prompt\"):\n",
        "  simple_top_5_result_4o = get_response_from_openai(generate_prompt(simple_top_5_prompt, title_ja), \"gpt-4o\")\n",
        "\n",
        "print(\"Prompt:\" + simple_top_5_prompt)\n",
        "print(\"Data input:\" + title_ja)\n",
        "print(simple_top_5_result_4o)"
      ],
      "metadata": {
        "id": "224q9mpqHe_i",
        "colab": {
          "base_uri": "https://localhost:8080/"
        },
        "outputId": "456b47ff-79eb-43f1-b7c6-437816f220b5"
      },
      "execution_count": 18,
      "outputs": [
        {
          "output_type": "stream",
          "name": "stdout",
          "text": [
            "GPT 4o Model w/ Simple Prompt: 0.87 seconds\n",
            "Prompt:Predict up to five possible ISO 639-1 language codes, ranked by likelihood in json: \n",
            "Data input:南品傀儡 青海舎主人述 亀毛[兎角亭亀毛]画\n",
            "{\n",
            "  \"predictions\": [\n",
            "    \"zh\",\n",
            "    \"ja\",\n",
            "    \"ko\",\n",
            "    \"vi\",\n",
            "    \"th\"\n",
            "  ]\n",
            "}\n"
          ]
        }
      ]
    },
    {
      "cell_type": "markdown",
      "source": [
        "### Expanding and improving a prompt"
      ],
      "metadata": {
        "id": "-RCAH0zh-VN0"
      }
    },
    {
      "cell_type": "code",
      "execution_count": 19,
      "metadata": {
        "id": "na2QVVaEIqd_",
        "colab": {
          "base_uri": "https://localhost:8080/"
        },
        "outputId": "2440ac51-5bb7-4b2a-a700-f7019352cc7a"
      },
      "outputs": [
        {
          "output_type": "stream",
          "name": "stdout",
          "text": [
            "You are a specialized AI model trained for language detection in bibliographic titles found within MARC records. Your task is to analyze the given text, focusing particularly on the context of shared characters to distinguish between languages that use overlapping scripts. Use contextual cues and other indicators to accurately predict up to five possible ISO 639-1 language codes, ranked by likelihood. The output should be formatted as a JSON array in the following structure: [{'code': '<ISO_code>', 'language': '<language_name>'}]. For instance, for the text 'Pride and Prejudice', you should return: {'result': [{'code': 'en', 'language': 'English'}]}. Please analyze the text below and enter your text after the colon: 南品傀儡 青海舎主人述 亀毛[兎角亭亀毛]画\n"
          ]
        }
      ],
      "source": [
        "# defining a more complex prompt for format and accuracy:\n",
        "complex_top_5_prompt = \"You are a specialized AI model trained for language \\\n",
        "detection in bibliographic titles found within MARC records. Your task is to \\\n",
        "analyze the given text, focusing particularly on the context of shared \\\n",
        "characters to distinguish between languages that use overlapping scripts. \\\n",
        "Use contextual cues and other indicators to accurately predict up to five \\\n",
        "possible ISO 639-1 language codes, ranked by likelihood. \\\n",
        "The output should be formatted as a JSON array in the following structure: \\\n",
        "[{'code': '<ISO_code>', 'language': '<language_name>'}]. For instance, for the \\\n",
        "text 'Pride and Prejudice', you should return: {'result': \\\n",
        "[{'code': 'en', 'language': 'English'}]}. Please analyze the text below and \\\n",
        "enter your text after the colon: \"\n",
        "\n",
        "\n",
        "print(generate_prompt(complex_top_5_prompt, title_ja))\n"
      ]
    },
    {
      "cell_type": "code",
      "source": [
        "with timer(\"GPT 3.5 Turbo Model w/ Complex Prompt\"):\n",
        "    complex_top_5_result_35_turbo = get_response_from_openai(generate_prompt(complex_top_5_prompt, title_ja), \"gpt-3.5-turbo-0125\")\n",
        "\n",
        "print(\"Prompt:\" + complex_top_5_prompt)\n",
        "print(\"Data input:\" + title_ja)\n",
        "print(complex_top_5_result_35_turbo)"
      ],
      "metadata": {
        "colab": {
          "base_uri": "https://localhost:8080/"
        },
        "id": "i_E9QE5_KFaL",
        "outputId": "ccc9ba78-0c96-4def-f92b-3848475f4c63"
      },
      "execution_count": 20,
      "outputs": [
        {
          "output_type": "stream",
          "name": "stdout",
          "text": [
            "GPT 3.5 Turbo Model w/ Complex Prompt: 1.04 seconds\n",
            "Prompt:You are a specialized AI model trained for language detection in bibliographic titles found within MARC records. Your task is to analyze the given text, focusing particularly on the context of shared characters to distinguish between languages that use overlapping scripts. Use contextual cues and other indicators to accurately predict up to five possible ISO 639-1 language codes, ranked by likelihood. The output should be formatted as a JSON array in the following structure: [{'code': '<ISO_code>', 'language': '<language_name>'}]. For instance, for the text 'Pride and Prejudice', you should return: {'result': [{'code': 'en', 'language': 'English'}]}. Please analyze the text below and enter your text after the colon: \n",
            "Data input:南品傀儡 青海舎主人述 亀毛[兎角亭亀毛]画\n",
            "{\"result\": [{\"code\": \"ja\", \"language\": \"Japanese\"}]}\n"
          ]
        }
      ]
    },
    {
      "cell_type": "code",
      "source": [
        "with timer(\"GPT 4o Model w/ Complex Prompt\"):\n",
        "    complex_top_5_result_4o = get_response_from_openai(generate_prompt(complex_top_5_prompt, title_ja), \"gpt-4o\")\n",
        "\n",
        "print(\"Prompt:\" + complex_top_5_prompt)\n",
        "print(\"Data input:\" + title_ja)\n",
        "print(complex_top_5_result_4o)"
      ],
      "metadata": {
        "colab": {
          "base_uri": "https://localhost:8080/"
        },
        "id": "OHpS-FScL7vF",
        "outputId": "bbbb84ea-8e62-4165-a3ed-6a1175654d68"
      },
      "execution_count": 21,
      "outputs": [
        {
          "output_type": "stream",
          "name": "stdout",
          "text": [
            "GPT 4o Model w/ Complex Prompt: 0.99 seconds\n",
            "Prompt:You are a specialized AI model trained for language detection in bibliographic titles found within MARC records. Your task is to analyze the given text, focusing particularly on the context of shared characters to distinguish between languages that use overlapping scripts. Use contextual cues and other indicators to accurately predict up to five possible ISO 639-1 language codes, ranked by likelihood. The output should be formatted as a JSON array in the following structure: [{'code': '<ISO_code>', 'language': '<language_name>'}]. For instance, for the text 'Pride and Prejudice', you should return: {'result': [{'code': 'en', 'language': 'English'}]}. Please analyze the text below and enter your text after the colon: \n",
            "Data input:南品傀儡 青海舎主人述 亀毛[兎角亭亀毛]画\n",
            "{\n",
            "  \"result\": [\n",
            "    {\"code\": \"ja\", \"language\": \"Japanese\"},\n",
            "    {\"code\": \"zh\", \"language\": \"Chinese\"}\n",
            "  ]\n",
            "}\n"
          ]
        }
      ]
    },
    {
      "cell_type": "code",
      "source": [
        "motivating_prompt =  \"Predict up to five possible ISO 639-1 language codes,\\\n",
        " ranked by likelihood in json, the good bots will get high fives: \""
      ],
      "metadata": {
        "id": "0e5f0Ypa0qea"
      },
      "execution_count": 22,
      "outputs": []
    },
    {
      "cell_type": "code",
      "source": [
        "with timer(\"GPT 4o Model w/ Complex Prompt\"):\n",
        "    motivating_result_4o = get_response_from_openai(generate_prompt(motivating_prompt, title_ja), \"gpt-4o\")\n",
        "\n",
        "print(\"Prompt:\" + motivating_prompt)\n",
        "print(\"Data input:\" + title_ja)\n",
        "print(motivating_result_4o)"
      ],
      "metadata": {
        "colab": {
          "base_uri": "https://localhost:8080/"
        },
        "id": "DK9Vpfw5vy33",
        "outputId": "07fc3586-4f1a-46c0-b008-89ed963836c2"
      },
      "execution_count": 23,
      "outputs": [
        {
          "output_type": "stream",
          "name": "stdout",
          "text": [
            "GPT 4o Model w/ Complex Prompt: 0.69 seconds\n",
            "Prompt:Predict up to five possible ISO 639-1 language codes, ranked by likelihood in json, the good bots will get high fives: \n",
            "Data input:南品傀儡 青海舎主人述 亀毛[兎角亭亀毛]画\n",
            "{\n",
            "  \"predictions\": [\n",
            "    \"ja\",\n",
            "    \"zh\",\n",
            "    \"ko\",\n",
            "    \"vi\",\n",
            "    \"th\"\n",
            "  ]\n",
            "}\n"
          ]
        }
      ]
    },
    {
      "cell_type": "code",
      "source": [
        "format_motivating_prompt =  \"Predict up to five possible ISO 639-1 language codes,\\\n",
        " ranked by likelihood in json, code and language in results, the good bots will get high fives: \""
      ],
      "metadata": {
        "id": "HQTEdeCns0Kd"
      },
      "execution_count": 24,
      "outputs": []
    },
    {
      "cell_type": "code",
      "source": [
        "with timer(\"GPT 4o Model w/ Complex Prompt\"):\n",
        "    format_motivating_result_4o = get_response_from_openai(generate_prompt(format_motivating_prompt, title_ja), \"gpt-4o\")\n",
        "\n",
        "print(\"Prompt:\" + format_motivating_prompt)\n",
        "print(\"Data input:\" + title_ja)\n",
        "print(format_motivating_result_4o)"
      ],
      "metadata": {
        "colab": {
          "base_uri": "https://localhost:8080/"
        },
        "id": "_OWSNww0vqFD",
        "outputId": "0da602d3-0d7e-4ebc-d0ae-0d5d51066dd2"
      },
      "execution_count": 25,
      "outputs": [
        {
          "output_type": "stream",
          "name": "stdout",
          "text": [
            "GPT 4o Model w/ Complex Prompt: 1.83 seconds\n",
            "Prompt:Predict up to five possible ISO 639-1 language codes, ranked by likelihood in json, code and language in results, the good bots will get high fives: \n",
            "Data input:南品傀儡 青海舎主人述 亀毛[兎角亭亀毛]画\n",
            "{\n",
            "  \"predictions\": [\n",
            "    {\n",
            "      \"code\": \"ja\",\n",
            "      \"language\": \"Japanese\"\n",
            "    },\n",
            "    {\n",
            "      \"code\": \"zh\",\n",
            "      \"language\": \"Chinese\"\n",
            "    },\n",
            "    {\n",
            "      \"code\": \"ko\",\n",
            "      \"language\": \"Korean\"\n",
            "    },\n",
            "    {\n",
            "      \"code\": \"vi\",\n",
            "      \"language\": \"Vietnamese\"\n",
            "    },\n",
            "    {\n",
            "      \"code\": \"th\",\n",
            "      \"language\": \"Thai\"\n",
            "    }\n",
            "  ]\n",
            "}\n"
          ]
        }
      ]
    },
    {
      "cell_type": "markdown",
      "source": [
        "### Let's look how this does with the cheaper model, 3.5 turbo, and the other title language examples.\n",
        "\n"
      ],
      "metadata": {
        "id": "AM7aaEDKPsAc"
      }
    },
    {
      "cell_type": "code",
      "source": [
        "with timer(\"3.5 Turbo Model w/ Complex Prompt\"):\n",
        "    format_motivating_top_5_result_35_turbo = get_response_from_openai(generate_prompt(format_motivating_prompt, title_ja), \"gpt-3.5-turbo\")\n",
        "\n",
        "print(\"Prompt:\" + format_motivating_prompt)\n",
        "print(\"Data input:\" + title_ja)\n",
        "print(format_motivating_top_5_result_35_turbo)"
      ],
      "metadata": {
        "colab": {
          "base_uri": "https://localhost:8080/"
        },
        "id": "EMp3E04uPxCA",
        "outputId": "465f4b93-9598-48ff-ee2a-3c4569961a53"
      },
      "execution_count": 26,
      "outputs": [
        {
          "output_type": "stream",
          "name": "stdout",
          "text": [
            "3.5 Turbo Model w/ Complex Prompt: 1.95 seconds\n",
            "Prompt:Predict up to five possible ISO 639-1 language codes, ranked by likelihood in json, code and language in results, the good bots will get high fives: \n",
            "Data input:南品傀儡 青海舎主人述 亀毛[兎角亭亀毛]画\n",
            "{\n",
            "  \"results\": [\n",
            "    {\n",
            "      \"code\": \"zh\",\n",
            "      \"language\": \"Chinese\"\n",
            "    },\n",
            "    {\n",
            "      \"code\": \"ja\",\n",
            "      \"language\": \"Japanese\"\n",
            "    },\n",
            "    {\n",
            "      \"code\": \"ko\",\n",
            "      \"language\": \"Korean\"\n",
            "    },\n",
            "    {\n",
            "      \"code\": \"vi\",\n",
            "      \"language\": \"Vietnamese\"\n",
            "    },\n",
            "    {\n",
            "      \"code\": \"th\",\n",
            "      \"language\": \"Thai\"\n",
            "    }\n",
            "  ]\n",
            "}\n"
          ]
        }
      ]
    },
    {
      "cell_type": "code",
      "source": [
        "with timer(\"3.5 Turbo Model w/ Complex Prompt\"):\n",
        "    format_motivating_top_5_result_35_turbo = get_response_from_openai(generate_prompt(format_motivating_prompt, title_ar), \"gpt-3.5-turbo\")\n",
        "\n",
        "print(\"Prompt:\" + format_motivating_prompt)\n",
        "print(\"Data input:\" + title_ar)\n",
        "print(format_motivating_top_5_result_35_turbo)"
      ],
      "metadata": {
        "colab": {
          "base_uri": "https://localhost:8080/"
        },
        "id": "8Esz0gIjwe5T",
        "outputId": "e1b8f6d5-5f17-4b9d-d74e-8668958837f9"
      },
      "execution_count": 27,
      "outputs": [
        {
          "output_type": "stream",
          "name": "stdout",
          "text": [
            "3.5 Turbo Model w/ Complex Prompt: 2.58 seconds\n",
            "Prompt:Predict up to five possible ISO 639-1 language codes, ranked by likelihood in json, code and language in results, the good bots will get high fives: \n",
            "Data input:دراسات سكانية\n",
            "{\n",
            "  \"results\": [\n",
            "    {\n",
            "      \"code\": \"ar\",\n",
            "      \"language\": \"Arabic\"\n",
            "    },\n",
            "    {\n",
            "      \"code\": \"fa\",\n",
            "      \"language\": \"Persian\"\n",
            "    },\n",
            "    {\n",
            "      \"code\": \"ur\",\n",
            "      \"language\": \"Urdu\"\n",
            "    },\n",
            "    {\n",
            "      \"code\": \"ps\",\n",
            "      \"language\": \"Pashto\"\n",
            "    },\n",
            "    {\n",
            "      \"code\": \"sd\",\n",
            "      \"language\": \"Sindhi\"\n",
            "    }\n",
            "  ]\n",
            "}\n"
          ]
        }
      ]
    },
    {
      "cell_type": "code",
      "source": [
        "with timer(\"3.5 Turbo Model w/ Complex Prompt\"):\n",
        "    format_motivating_top_5_result_35_turbo = get_response_from_openai(generate_prompt(format_motivating_prompt, title_sk), \"gpt-3.5-turbo\")\n",
        "\n",
        "print(\"Prompt:\" + format_motivating_prompt)\n",
        "print(\"Data input:\" + title_sk)\n",
        "print(format_motivating_top_5_result_35_turbo)"
      ],
      "metadata": {
        "colab": {
          "base_uri": "https://localhost:8080/"
        },
        "id": "qGP6oKfZP4yT",
        "outputId": "7f12349a-8d0f-4810-cc12-d58019e6be4c"
      },
      "execution_count": 28,
      "outputs": [
        {
          "output_type": "stream",
          "name": "stdout",
          "text": [
            "3.5 Turbo Model w/ Complex Prompt: 2.34 seconds\n",
            "Prompt:Predict up to five possible ISO 639-1 language codes, ranked by likelihood in json, code and language in results, the good bots will get high fives: \n",
            "Data input:Trávnice slovenských národných piesní Na klavír pristrojíl Miroslav Francisci\n",
            "{\n",
            "  \"results\": [\n",
            "    {\n",
            "      \"code\": \"sk\",\n",
            "      \"language\": \"Slovak\"\n",
            "    },\n",
            "    {\n",
            "      \"code\": \"cs\",\n",
            "      \"language\": \"Czech\"\n",
            "    },\n",
            "    {\n",
            "      \"code\": \"hu\",\n",
            "      \"language\": \"Hungarian\"\n",
            "    },\n",
            "    {\n",
            "      \"code\": \"pl\",\n",
            "      \"language\": \"Polish\"\n",
            "    },\n",
            "    {\n",
            "      \"code\": \"de\",\n",
            "      \"language\": \"German\"\n",
            "    }\n",
            "  ]\n",
            "}\n"
          ]
        }
      ]
    },
    {
      "cell_type": "markdown",
      "source": [
        "## Working with Hugging Face Models\n",
        "\n",
        "Hugging Face has a ton of models. Much like github, some are far along, some are experiments, some are great but unsupported, etc. Hugging Face has some packages we can use to make it quite easy to use some of the models hosted."
      ],
      "metadata": {
        "id": "iSBmBkWDuEmM"
      }
    },
    {
      "cell_type": "code",
      "execution_count": 29,
      "metadata": {
        "id": "yB0MnYTZpk6h",
        "colab": {
          "base_uri": "https://localhost:8080/"
        },
        "outputId": "b843865b-83ad-4c3f-c91b-6ecc96e71b10"
      },
      "outputs": [
        {
          "output_type": "stream",
          "name": "stdout",
          "text": [
            "Requirement already satisfied: transformers in /usr/local/lib/python3.10/dist-packages (4.40.2)\n",
            "Requirement already satisfied: filelock in /usr/local/lib/python3.10/dist-packages (from transformers) (3.14.0)\n",
            "Requirement already satisfied: huggingface-hub<1.0,>=0.19.3 in /usr/local/lib/python3.10/dist-packages (from transformers) (0.20.3)\n",
            "Requirement already satisfied: numpy>=1.17 in /usr/local/lib/python3.10/dist-packages (from transformers) (1.25.2)\n",
            "Requirement already satisfied: packaging>=20.0 in /usr/local/lib/python3.10/dist-packages (from transformers) (24.0)\n",
            "Requirement already satisfied: pyyaml>=5.1 in /usr/local/lib/python3.10/dist-packages (from transformers) (6.0.1)\n",
            "Requirement already satisfied: regex!=2019.12.17 in /usr/local/lib/python3.10/dist-packages (from transformers) (2023.12.25)\n",
            "Requirement already satisfied: requests in /usr/local/lib/python3.10/dist-packages (from transformers) (2.31.0)\n",
            "Requirement already satisfied: tokenizers<0.20,>=0.19 in /usr/local/lib/python3.10/dist-packages (from transformers) (0.19.1)\n",
            "Requirement already satisfied: safetensors>=0.4.1 in /usr/local/lib/python3.10/dist-packages (from transformers) (0.4.3)\n",
            "Requirement already satisfied: tqdm>=4.27 in /usr/local/lib/python3.10/dist-packages (from transformers) (4.66.4)\n",
            "Requirement already satisfied: fsspec>=2023.5.0 in /usr/local/lib/python3.10/dist-packages (from huggingface-hub<1.0,>=0.19.3->transformers) (2023.6.0)\n",
            "Requirement already satisfied: typing-extensions>=3.7.4.3 in /usr/local/lib/python3.10/dist-packages (from huggingface-hub<1.0,>=0.19.3->transformers) (4.11.0)\n",
            "Requirement already satisfied: charset-normalizer<4,>=2 in /usr/local/lib/python3.10/dist-packages (from requests->transformers) (3.3.2)\n",
            "Requirement already satisfied: idna<4,>=2.5 in /usr/local/lib/python3.10/dist-packages (from requests->transformers) (3.7)\n",
            "Requirement already satisfied: urllib3<3,>=1.21.1 in /usr/local/lib/python3.10/dist-packages (from requests->transformers) (2.0.7)\n",
            "Requirement already satisfied: certifi>=2017.4.17 in /usr/local/lib/python3.10/dist-packages (from requests->transformers) (2024.2.2)\n"
          ]
        }
      ],
      "source": [
        "# Install the Hugging Face transformer library\n",
        "!pip install transformers"
      ]
    },
    {
      "cell_type": "markdown",
      "source": [
        "### Create a Pipeline and Detect Language\n",
        "\n",
        "For this exercise we will use the Papluca XLM Roberta Base Language Detection."
      ],
      "metadata": {
        "id": "yelSFL0ouTF3"
      }
    },
    {
      "cell_type": "code",
      "execution_count": 30,
      "metadata": {
        "id": "WvESQwdap5hI",
        "colab": {
          "base_uri": "https://localhost:8080/",
          "height": 372,
          "referenced_widgets": [
            "ff3aab1d5f53411680e5991acba2d2d8",
            "33f28ea4b63143658848c89b86fa8519",
            "78bbc7a4816340b1b8ec0caf4c006b62",
            "059eed6f9b4e4210b46ef85c3219c79e",
            "33721bfabc9d47098ef8fcf4572e7bfb",
            "5a65364c27f24ba19e4de437ef230e57",
            "3fa491186faa4e27bcddadd0c03a0538",
            "c4c52b3ee24f491d89c1f42795447310",
            "38d768b0de1d43e0bef291126b36b4b9",
            "283bc9c7e786402ba48740fdab21a263",
            "48e2321e7cde491696ef422070a5ba5e",
            "867fbc0587cd4d10986ce23ee9aa2ad9",
            "6f8b5ac6ede743c1b7b59b24be9264f7",
            "f265ab1d9dc34112832f8e099a4fa18f",
            "e3394165dcbf48d1ad16869a78f9e8b8",
            "9e7f62e2e28d490c9b4ea9cec957e4c6",
            "d9e4291f81aa4ba39b2d5298fe1ff1c1",
            "e0229c042c24438089caf2ca86ee2ac6",
            "66c2d6be52044b2abbd385141403f18e",
            "92f6c865c35f4a6281cc0037417613ce",
            "6b99a6ef2e3f463db34b35387ead340d",
            "7d152d86849b4f6082c0a71348c2e240",
            "22a2ce2921174c8ea0e464dfe261f936",
            "255ff7acc5d14a318eb45d4625ed0435",
            "689fc88f79d84ad18ecc2c6637a7b9f4",
            "db28f812f73d4d7d9f496427454eda40",
            "7134911e3f46459fb21eaa83a45371e0",
            "746674a687194f5d96732831aa436bd1",
            "ee33bc550d114b899b9bc50552d11ef6",
            "9eda0ea92fc54d7d865fd4b2f7152776",
            "fe6801880c084623bdba2fa4131f392e",
            "118f2a48c4c9449aa9447d47ca2fd10d",
            "cc32e4e84c524f57a3f5d4e51c31d7e0",
            "21182a15e15048abb6ae443d9b29b7ca",
            "9a9bcd1c41c04863af974d49217bb520",
            "fcd3aa1a343749539872bef131ba4f1c",
            "d6108a6cfe0743c2b05f50e9b40bef4f",
            "18bb7006571d4da3841a39089905f5ad",
            "72e7838df82e4ff8a51bfdc25f4c6f03",
            "2cab4aba9e554800a9321e6e2e82fc2d",
            "2187867fd83b4f6383c120cc285ba42b",
            "b460b08b35fc474da43b0497e0a7a57c",
            "6ceacb5b3b574180924204dc4d40e63c",
            "b86f4cbd51b640a9bc7afbffa25826bb",
            "1cca1ba8777b4bc4890c75568923ae00",
            "5a491ea2d8514cadad843692b2428ff9",
            "33412f1f2059423c851267cada099947",
            "897e35c11437417b938f8b3e94ca75c5",
            "387db006cfaf4164b33a7f04e322d90e",
            "33e61d303cfd415bbc606a9b69bc95c0",
            "59cbb49c690048a987cbb175eb1a32c2",
            "4bd22aea6e1c407da78a857b486a83e3",
            "0b002cce9bd6450b9ed29a5d2a6d58b6",
            "2cf4a3e6f86d4e2294326fcbce8c6b05",
            "69d0741bfc664a0d84b8b8acb28379b8",
            "6b708270554e4ed5848e9370ab604f3f",
            "9b6c9adaf63d4671ab300a10a7dedfcd",
            "1efae356a5714ae7a88ece20028a263f",
            "9458f9517ccd4b668e5665b99fb51031",
            "7531ea302f454df898791d7a70d1c7ad",
            "f8600790c5874a2998cce1111dbf67c5",
            "4439c408d0e74728b698f1089735a32a",
            "b08779621dd04d9a8c9f87c1d5997f8a",
            "53924197061d42c39bbbabcbe14a0a35",
            "7ffda7efb0b84bba9b55da032faadf9f",
            "0df8dfb7c5084f8c93e7cd6827be9c32"
          ]
        },
        "outputId": "cb9e895c-b45e-476f-d900-c83021681b2a"
      },
      "outputs": [
        {
          "output_type": "stream",
          "name": "stderr",
          "text": [
            "/usr/local/lib/python3.10/dist-packages/huggingface_hub/utils/_token.py:88: UserWarning: \n",
            "The secret `HF_TOKEN` does not exist in your Colab secrets.\n",
            "To authenticate with the Hugging Face Hub, create a token in your settings tab (https://huggingface.co/settings/tokens), set it as secret in your Google Colab and restart your session.\n",
            "You will be able to reuse this secret in all of your notebooks.\n",
            "Please note that authentication is recommended but still optional to access public models or datasets.\n",
            "  warnings.warn(\n"
          ]
        },
        {
          "output_type": "display_data",
          "data": {
            "text/plain": [
              "config.json:   0%|          | 0.00/1.42k [00:00<?, ?B/s]"
            ],
            "application/vnd.jupyter.widget-view+json": {
              "version_major": 2,
              "version_minor": 0,
              "model_id": "ff3aab1d5f53411680e5991acba2d2d8"
            }
          },
          "metadata": {}
        },
        {
          "output_type": "display_data",
          "data": {
            "text/plain": [
              "model.safetensors:   0%|          | 0.00/1.11G [00:00<?, ?B/s]"
            ],
            "application/vnd.jupyter.widget-view+json": {
              "version_major": 2,
              "version_minor": 0,
              "model_id": "867fbc0587cd4d10986ce23ee9aa2ad9"
            }
          },
          "metadata": {}
        },
        {
          "output_type": "display_data",
          "data": {
            "text/plain": [
              "tokenizer_config.json:   0%|          | 0.00/502 [00:00<?, ?B/s]"
            ],
            "application/vnd.jupyter.widget-view+json": {
              "version_major": 2,
              "version_minor": 0,
              "model_id": "22a2ce2921174c8ea0e464dfe261f936"
            }
          },
          "metadata": {}
        },
        {
          "output_type": "display_data",
          "data": {
            "text/plain": [
              "sentencepiece.bpe.model:   0%|          | 0.00/5.07M [00:00<?, ?B/s]"
            ],
            "application/vnd.jupyter.widget-view+json": {
              "version_major": 2,
              "version_minor": 0,
              "model_id": "21182a15e15048abb6ae443d9b29b7ca"
            }
          },
          "metadata": {}
        },
        {
          "output_type": "display_data",
          "data": {
            "text/plain": [
              "tokenizer.json:   0%|          | 0.00/9.08M [00:00<?, ?B/s]"
            ],
            "application/vnd.jupyter.widget-view+json": {
              "version_major": 2,
              "version_minor": 0,
              "model_id": "1cca1ba8777b4bc4890c75568923ae00"
            }
          },
          "metadata": {}
        },
        {
          "output_type": "display_data",
          "data": {
            "text/plain": [
              "special_tokens_map.json:   0%|          | 0.00/239 [00:00<?, ?B/s]"
            ],
            "application/vnd.jupyter.widget-view+json": {
              "version_major": 2,
              "version_minor": 0,
              "model_id": "6b708270554e4ed5848e9370ab604f3f"
            }
          },
          "metadata": {}
        },
        {
          "output_type": "stream",
          "name": "stderr",
          "text": [
            "/usr/local/lib/python3.10/dist-packages/transformers/pipelines/text_classification.py:104: UserWarning: `return_all_scores` is now deprecated,  if want a similar functionality use `top_k=None` instead of `return_all_scores=True` or `top_k=1` instead of `return_all_scores=False`.\n",
            "  warnings.warn(\n"
          ]
        }
      ],
      "source": [
        "from transformers import pipeline\n",
        "# create a pipeline for language detection\n",
        "language_detector = pipeline('text-classification', model='papluca/xlm-roberta-base-language-detection', return_all_scores=True)"
      ]
    },
    {
      "cell_type": "markdown",
      "source": [
        "## Using the Pipeline"
      ],
      "metadata": {
        "id": "7gY90qQT_Ceu"
      }
    },
    {
      "cell_type": "code",
      "source": [
        "# Pass the title to the pipeline and print the result\n",
        "result = language_detector(title_ja)\n",
        "print(result)"
      ],
      "metadata": {
        "id": "CU_xhABvSdnv",
        "colab": {
          "base_uri": "https://localhost:8080/"
        },
        "outputId": "4b1e1c13-e052-4b1e-e465-8cb323bbd801"
      },
      "execution_count": 31,
      "outputs": [
        {
          "output_type": "stream",
          "name": "stdout",
          "text": [
            "[[{'label': 'ja', 'score': 0.8546233773231506}, {'label': 'nl', 'score': 0.002020410029217601}, {'label': 'ar', 'score': 0.005020438693463802}, {'label': 'pl', 'score': 0.0019789296202361584}, {'label': 'de', 'score': 0.001905736280605197}, {'label': 'it', 'score': 0.0024393198546022177}, {'label': 'pt', 'score': 0.004449539352208376}, {'label': 'tr', 'score': 0.0050081294029951096}, {'label': 'es', 'score': 0.0024506777990609407}, {'label': 'hi', 'score': 0.006665884982794523}, {'label': 'el', 'score': 0.002764463657513261}, {'label': 'ur', 'score': 0.004795867949724197}, {'label': 'bg', 'score': 0.002327968366444111}, {'label': 'en', 'score': 0.004049498122185469}, {'label': 'fr', 'score': 0.004364688880741596}, {'label': 'zh', 'score': 0.07286593317985535}, {'label': 'ru', 'score': 0.00292335101403296}, {'label': 'th', 'score': 0.012064753100275993}, {'label': 'sw', 'score': 0.0035523998085409403}, {'label': 'vi', 'score': 0.0037285308353602886}]]\n"
          ]
        }
      ]
    },
    {
      "cell_type": "markdown",
      "source": [
        "Let's pretty up the result."
      ],
      "metadata": {
        "id": "mIFZlkZB-xob"
      }
    },
    {
      "cell_type": "code",
      "execution_count": 32,
      "metadata": {
        "id": "yuVSgrVoqSN6",
        "colab": {
          "base_uri": "https://localhost:8080/"
        },
        "outputId": "45f9383e-3959-4a26-9d31-840af8de439d"
      },
      "outputs": [
        {
          "output_type": "stream",
          "name": "stdout",
          "text": [
            "\n",
            "\n",
            "HF Model for Title: : 0.30 seconds\n",
            "Title: 南品傀儡 青海舎主人述 亀毛[兎角亭亀毛]画\n",
            "Language: Japanese (ja), Confidence: 85.46%\n",
            "Language: Chinese (zh), Confidence: 7.29%\n",
            "Language: Thai (th), Confidence: 1.21%\n",
            "Language: Hindi (hi), Confidence: 0.67%\n",
            "Language: Arabic (ar), Confidence: 0.5%\n",
            "\n",
            "\n",
            "HF Model for Title: : 0.15 seconds\n",
            "Title: دراسات سكانية\n",
            "Language: Arabic (ar), Confidence: 99.12%\n",
            "Language: Modern Greek (1453-) (el), Confidence: 0.1%\n",
            "Language: Urdu (ur), Confidence: 0.1%\n",
            "Language: Portuguese (pt), Confidence: 0.1%\n",
            "Language: Japanese (ja), Confidence: 0.07%\n",
            "\n",
            "\n",
            "HF Model for Title: : 0.23 seconds\n",
            "Title: Trávnice slovenských národných piesní Na klavír pristrojíl Miroslav Francisci\n",
            "Language: Polish (pl), Confidence: 18.95%\n",
            "Language: Bulgarian (bg), Confidence: 12.46%\n",
            "Language: Russian (ru), Confidence: 11.47%\n",
            "Language: Thai (th), Confidence: 7.15%\n",
            "Language: Urdu (ur), Confidence: 6.81%\n"
          ]
        }
      ],
      "source": [
        "for title in [title_ja, title_ar, title_sk]:\n",
        "  print(\"\\n\")\n",
        "  with timer(\"HF Model for Title: \"):\n",
        "    results = language_detector(title)\n",
        "\n",
        "    # Flatten the list of lists if needed (in case your results are nested in a list of lists)\n",
        "    flat_results = results[0] if isinstance(results[0], list) else results\n",
        "\n",
        "    # Sort the list of dictionaries by the 'score' key in descending order\n",
        "    sorted_results = sorted(flat_results, key=lambda x: x['score'], reverse=True)\n",
        "\n",
        "    # Retain only the top 5 entries\n",
        "    top_5_languages = sorted_results[:5]\n",
        "\n",
        "    # Extract labels and scores\n",
        "    labels = [result['label'] for result in top_5_languages]\n",
        "    scores = [result['score'] for result in top_5_languages]\n",
        "  print(\"Title: \" + title)\n",
        "  pprint_language_codes(labels, scores)"
      ]
    },
    {
      "cell_type": "markdown",
      "source": [
        "### Uh oh, that Hugging Face model doesn't support Slovak.\n",
        "\n",
        "While this model seems as good as fastText for languages, it doesn't have the breadth of coverage. To make this useful for our problem would need to:\n",
        "\n",
        "1. Find another model with more supported languages.\n",
        "2. Make alternative processing for unsupported languages, maybe using an LLM or a patchwork of models.\n",
        "3. Fine-tune this model on other language.\n",
        "\n",
        "While #3 is possible, it's out of scope for this tutorial. You would need to find or construct a dataset, and learn more about using Hugging Face for fine-tuning. If you need to fine tune, and can find the data, copiloting an LLM can be very helpful in getting the Hugging Face or Pytorch syntax for fine-tuning."
      ],
      "metadata": {
        "id": "lM4Z4SWb8NzB"
      }
    },
    {
      "cell_type": "markdown",
      "source": [
        "## Thanks!\n",
        "\n",
        "This is about all for a getting started. Fine-tuning and building a model from scratch is way more involved and specific to the task for just this worksheet. Hopefully you have found some of this useful. Cheers."
      ],
      "metadata": {
        "id": "dOgJflun91uD"
      }
    }
  ],
  "metadata": {
    "colab": {
      "provenance": []
    },
    "kernelspec": {
      "display_name": "Python 3",
      "name": "python3"
    },
    "language_info": {
      "name": "python"
    },
    "widgets": {
      "application/vnd.jupyter.widget-state+json": {
        "ff3aab1d5f53411680e5991acba2d2d8": {
          "model_module": "@jupyter-widgets/controls",
          "model_name": "HBoxModel",
          "model_module_version": "1.5.0",
          "state": {
            "_dom_classes": [],
            "_model_module": "@jupyter-widgets/controls",
            "_model_module_version": "1.5.0",
            "_model_name": "HBoxModel",
            "_view_count": null,
            "_view_module": "@jupyter-widgets/controls",
            "_view_module_version": "1.5.0",
            "_view_name": "HBoxView",
            "box_style": "",
            "children": [
              "IPY_MODEL_33f28ea4b63143658848c89b86fa8519",
              "IPY_MODEL_78bbc7a4816340b1b8ec0caf4c006b62",
              "IPY_MODEL_059eed6f9b4e4210b46ef85c3219c79e"
            ],
            "layout": "IPY_MODEL_33721bfabc9d47098ef8fcf4572e7bfb"
          }
        },
        "33f28ea4b63143658848c89b86fa8519": {
          "model_module": "@jupyter-widgets/controls",
          "model_name": "HTMLModel",
          "model_module_version": "1.5.0",
          "state": {
            "_dom_classes": [],
            "_model_module": "@jupyter-widgets/controls",
            "_model_module_version": "1.5.0",
            "_model_name": "HTMLModel",
            "_view_count": null,
            "_view_module": "@jupyter-widgets/controls",
            "_view_module_version": "1.5.0",
            "_view_name": "HTMLView",
            "description": "",
            "description_tooltip": null,
            "layout": "IPY_MODEL_5a65364c27f24ba19e4de437ef230e57",
            "placeholder": "​",
            "style": "IPY_MODEL_3fa491186faa4e27bcddadd0c03a0538",
            "value": "config.json: 100%"
          }
        },
        "78bbc7a4816340b1b8ec0caf4c006b62": {
          "model_module": "@jupyter-widgets/controls",
          "model_name": "FloatProgressModel",
          "model_module_version": "1.5.0",
          "state": {
            "_dom_classes": [],
            "_model_module": "@jupyter-widgets/controls",
            "_model_module_version": "1.5.0",
            "_model_name": "FloatProgressModel",
            "_view_count": null,
            "_view_module": "@jupyter-widgets/controls",
            "_view_module_version": "1.5.0",
            "_view_name": "ProgressView",
            "bar_style": "success",
            "description": "",
            "description_tooltip": null,
            "layout": "IPY_MODEL_c4c52b3ee24f491d89c1f42795447310",
            "max": 1417,
            "min": 0,
            "orientation": "horizontal",
            "style": "IPY_MODEL_38d768b0de1d43e0bef291126b36b4b9",
            "value": 1417
          }
        },
        "059eed6f9b4e4210b46ef85c3219c79e": {
          "model_module": "@jupyter-widgets/controls",
          "model_name": "HTMLModel",
          "model_module_version": "1.5.0",
          "state": {
            "_dom_classes": [],
            "_model_module": "@jupyter-widgets/controls",
            "_model_module_version": "1.5.0",
            "_model_name": "HTMLModel",
            "_view_count": null,
            "_view_module": "@jupyter-widgets/controls",
            "_view_module_version": "1.5.0",
            "_view_name": "HTMLView",
            "description": "",
            "description_tooltip": null,
            "layout": "IPY_MODEL_283bc9c7e786402ba48740fdab21a263",
            "placeholder": "​",
            "style": "IPY_MODEL_48e2321e7cde491696ef422070a5ba5e",
            "value": " 1.42k/1.42k [00:00&lt;00:00, 36.4kB/s]"
          }
        },
        "33721bfabc9d47098ef8fcf4572e7bfb": {
          "model_module": "@jupyter-widgets/base",
          "model_name": "LayoutModel",
          "model_module_version": "1.2.0",
          "state": {
            "_model_module": "@jupyter-widgets/base",
            "_model_module_version": "1.2.0",
            "_model_name": "LayoutModel",
            "_view_count": null,
            "_view_module": "@jupyter-widgets/base",
            "_view_module_version": "1.2.0",
            "_view_name": "LayoutView",
            "align_content": null,
            "align_items": null,
            "align_self": null,
            "border": null,
            "bottom": null,
            "display": null,
            "flex": null,
            "flex_flow": null,
            "grid_area": null,
            "grid_auto_columns": null,
            "grid_auto_flow": null,
            "grid_auto_rows": null,
            "grid_column": null,
            "grid_gap": null,
            "grid_row": null,
            "grid_template_areas": null,
            "grid_template_columns": null,
            "grid_template_rows": null,
            "height": null,
            "justify_content": null,
            "justify_items": null,
            "left": null,
            "margin": null,
            "max_height": null,
            "max_width": null,
            "min_height": null,
            "min_width": null,
            "object_fit": null,
            "object_position": null,
            "order": null,
            "overflow": null,
            "overflow_x": null,
            "overflow_y": null,
            "padding": null,
            "right": null,
            "top": null,
            "visibility": null,
            "width": null
          }
        },
        "5a65364c27f24ba19e4de437ef230e57": {
          "model_module": "@jupyter-widgets/base",
          "model_name": "LayoutModel",
          "model_module_version": "1.2.0",
          "state": {
            "_model_module": "@jupyter-widgets/base",
            "_model_module_version": "1.2.0",
            "_model_name": "LayoutModel",
            "_view_count": null,
            "_view_module": "@jupyter-widgets/base",
            "_view_module_version": "1.2.0",
            "_view_name": "LayoutView",
            "align_content": null,
            "align_items": null,
            "align_self": null,
            "border": null,
            "bottom": null,
            "display": null,
            "flex": null,
            "flex_flow": null,
            "grid_area": null,
            "grid_auto_columns": null,
            "grid_auto_flow": null,
            "grid_auto_rows": null,
            "grid_column": null,
            "grid_gap": null,
            "grid_row": null,
            "grid_template_areas": null,
            "grid_template_columns": null,
            "grid_template_rows": null,
            "height": null,
            "justify_content": null,
            "justify_items": null,
            "left": null,
            "margin": null,
            "max_height": null,
            "max_width": null,
            "min_height": null,
            "min_width": null,
            "object_fit": null,
            "object_position": null,
            "order": null,
            "overflow": null,
            "overflow_x": null,
            "overflow_y": null,
            "padding": null,
            "right": null,
            "top": null,
            "visibility": null,
            "width": null
          }
        },
        "3fa491186faa4e27bcddadd0c03a0538": {
          "model_module": "@jupyter-widgets/controls",
          "model_name": "DescriptionStyleModel",
          "model_module_version": "1.5.0",
          "state": {
            "_model_module": "@jupyter-widgets/controls",
            "_model_module_version": "1.5.0",
            "_model_name": "DescriptionStyleModel",
            "_view_count": null,
            "_view_module": "@jupyter-widgets/base",
            "_view_module_version": "1.2.0",
            "_view_name": "StyleView",
            "description_width": ""
          }
        },
        "c4c52b3ee24f491d89c1f42795447310": {
          "model_module": "@jupyter-widgets/base",
          "model_name": "LayoutModel",
          "model_module_version": "1.2.0",
          "state": {
            "_model_module": "@jupyter-widgets/base",
            "_model_module_version": "1.2.0",
            "_model_name": "LayoutModel",
            "_view_count": null,
            "_view_module": "@jupyter-widgets/base",
            "_view_module_version": "1.2.0",
            "_view_name": "LayoutView",
            "align_content": null,
            "align_items": null,
            "align_self": null,
            "border": null,
            "bottom": null,
            "display": null,
            "flex": null,
            "flex_flow": null,
            "grid_area": null,
            "grid_auto_columns": null,
            "grid_auto_flow": null,
            "grid_auto_rows": null,
            "grid_column": null,
            "grid_gap": null,
            "grid_row": null,
            "grid_template_areas": null,
            "grid_template_columns": null,
            "grid_template_rows": null,
            "height": null,
            "justify_content": null,
            "justify_items": null,
            "left": null,
            "margin": null,
            "max_height": null,
            "max_width": null,
            "min_height": null,
            "min_width": null,
            "object_fit": null,
            "object_position": null,
            "order": null,
            "overflow": null,
            "overflow_x": null,
            "overflow_y": null,
            "padding": null,
            "right": null,
            "top": null,
            "visibility": null,
            "width": null
          }
        },
        "38d768b0de1d43e0bef291126b36b4b9": {
          "model_module": "@jupyter-widgets/controls",
          "model_name": "ProgressStyleModel",
          "model_module_version": "1.5.0",
          "state": {
            "_model_module": "@jupyter-widgets/controls",
            "_model_module_version": "1.5.0",
            "_model_name": "ProgressStyleModel",
            "_view_count": null,
            "_view_module": "@jupyter-widgets/base",
            "_view_module_version": "1.2.0",
            "_view_name": "StyleView",
            "bar_color": null,
            "description_width": ""
          }
        },
        "283bc9c7e786402ba48740fdab21a263": {
          "model_module": "@jupyter-widgets/base",
          "model_name": "LayoutModel",
          "model_module_version": "1.2.0",
          "state": {
            "_model_module": "@jupyter-widgets/base",
            "_model_module_version": "1.2.0",
            "_model_name": "LayoutModel",
            "_view_count": null,
            "_view_module": "@jupyter-widgets/base",
            "_view_module_version": "1.2.0",
            "_view_name": "LayoutView",
            "align_content": null,
            "align_items": null,
            "align_self": null,
            "border": null,
            "bottom": null,
            "display": null,
            "flex": null,
            "flex_flow": null,
            "grid_area": null,
            "grid_auto_columns": null,
            "grid_auto_flow": null,
            "grid_auto_rows": null,
            "grid_column": null,
            "grid_gap": null,
            "grid_row": null,
            "grid_template_areas": null,
            "grid_template_columns": null,
            "grid_template_rows": null,
            "height": null,
            "justify_content": null,
            "justify_items": null,
            "left": null,
            "margin": null,
            "max_height": null,
            "max_width": null,
            "min_height": null,
            "min_width": null,
            "object_fit": null,
            "object_position": null,
            "order": null,
            "overflow": null,
            "overflow_x": null,
            "overflow_y": null,
            "padding": null,
            "right": null,
            "top": null,
            "visibility": null,
            "width": null
          }
        },
        "48e2321e7cde491696ef422070a5ba5e": {
          "model_module": "@jupyter-widgets/controls",
          "model_name": "DescriptionStyleModel",
          "model_module_version": "1.5.0",
          "state": {
            "_model_module": "@jupyter-widgets/controls",
            "_model_module_version": "1.5.0",
            "_model_name": "DescriptionStyleModel",
            "_view_count": null,
            "_view_module": "@jupyter-widgets/base",
            "_view_module_version": "1.2.0",
            "_view_name": "StyleView",
            "description_width": ""
          }
        },
        "867fbc0587cd4d10986ce23ee9aa2ad9": {
          "model_module": "@jupyter-widgets/controls",
          "model_name": "HBoxModel",
          "model_module_version": "1.5.0",
          "state": {
            "_dom_classes": [],
            "_model_module": "@jupyter-widgets/controls",
            "_model_module_version": "1.5.0",
            "_model_name": "HBoxModel",
            "_view_count": null,
            "_view_module": "@jupyter-widgets/controls",
            "_view_module_version": "1.5.0",
            "_view_name": "HBoxView",
            "box_style": "",
            "children": [
              "IPY_MODEL_6f8b5ac6ede743c1b7b59b24be9264f7",
              "IPY_MODEL_f265ab1d9dc34112832f8e099a4fa18f",
              "IPY_MODEL_e3394165dcbf48d1ad16869a78f9e8b8"
            ],
            "layout": "IPY_MODEL_9e7f62e2e28d490c9b4ea9cec957e4c6"
          }
        },
        "6f8b5ac6ede743c1b7b59b24be9264f7": {
          "model_module": "@jupyter-widgets/controls",
          "model_name": "HTMLModel",
          "model_module_version": "1.5.0",
          "state": {
            "_dom_classes": [],
            "_model_module": "@jupyter-widgets/controls",
            "_model_module_version": "1.5.0",
            "_model_name": "HTMLModel",
            "_view_count": null,
            "_view_module": "@jupyter-widgets/controls",
            "_view_module_version": "1.5.0",
            "_view_name": "HTMLView",
            "description": "",
            "description_tooltip": null,
            "layout": "IPY_MODEL_d9e4291f81aa4ba39b2d5298fe1ff1c1",
            "placeholder": "​",
            "style": "IPY_MODEL_e0229c042c24438089caf2ca86ee2ac6",
            "value": "model.safetensors: 100%"
          }
        },
        "f265ab1d9dc34112832f8e099a4fa18f": {
          "model_module": "@jupyter-widgets/controls",
          "model_name": "FloatProgressModel",
          "model_module_version": "1.5.0",
          "state": {
            "_dom_classes": [],
            "_model_module": "@jupyter-widgets/controls",
            "_model_module_version": "1.5.0",
            "_model_name": "FloatProgressModel",
            "_view_count": null,
            "_view_module": "@jupyter-widgets/controls",
            "_view_module_version": "1.5.0",
            "_view_name": "ProgressView",
            "bar_style": "success",
            "description": "",
            "description_tooltip": null,
            "layout": "IPY_MODEL_66c2d6be52044b2abbd385141403f18e",
            "max": 1112264584,
            "min": 0,
            "orientation": "horizontal",
            "style": "IPY_MODEL_92f6c865c35f4a6281cc0037417613ce",
            "value": 1112264584
          }
        },
        "e3394165dcbf48d1ad16869a78f9e8b8": {
          "model_module": "@jupyter-widgets/controls",
          "model_name": "HTMLModel",
          "model_module_version": "1.5.0",
          "state": {
            "_dom_classes": [],
            "_model_module": "@jupyter-widgets/controls",
            "_model_module_version": "1.5.0",
            "_model_name": "HTMLModel",
            "_view_count": null,
            "_view_module": "@jupyter-widgets/controls",
            "_view_module_version": "1.5.0",
            "_view_name": "HTMLView",
            "description": "",
            "description_tooltip": null,
            "layout": "IPY_MODEL_6b99a6ef2e3f463db34b35387ead340d",
            "placeholder": "​",
            "style": "IPY_MODEL_7d152d86849b4f6082c0a71348c2e240",
            "value": " 1.11G/1.11G [00:13&lt;00:00, 104MB/s]"
          }
        },
        "9e7f62e2e28d490c9b4ea9cec957e4c6": {
          "model_module": "@jupyter-widgets/base",
          "model_name": "LayoutModel",
          "model_module_version": "1.2.0",
          "state": {
            "_model_module": "@jupyter-widgets/base",
            "_model_module_version": "1.2.0",
            "_model_name": "LayoutModel",
            "_view_count": null,
            "_view_module": "@jupyter-widgets/base",
            "_view_module_version": "1.2.0",
            "_view_name": "LayoutView",
            "align_content": null,
            "align_items": null,
            "align_self": null,
            "border": null,
            "bottom": null,
            "display": null,
            "flex": null,
            "flex_flow": null,
            "grid_area": null,
            "grid_auto_columns": null,
            "grid_auto_flow": null,
            "grid_auto_rows": null,
            "grid_column": null,
            "grid_gap": null,
            "grid_row": null,
            "grid_template_areas": null,
            "grid_template_columns": null,
            "grid_template_rows": null,
            "height": null,
            "justify_content": null,
            "justify_items": null,
            "left": null,
            "margin": null,
            "max_height": null,
            "max_width": null,
            "min_height": null,
            "min_width": null,
            "object_fit": null,
            "object_position": null,
            "order": null,
            "overflow": null,
            "overflow_x": null,
            "overflow_y": null,
            "padding": null,
            "right": null,
            "top": null,
            "visibility": null,
            "width": null
          }
        },
        "d9e4291f81aa4ba39b2d5298fe1ff1c1": {
          "model_module": "@jupyter-widgets/base",
          "model_name": "LayoutModel",
          "model_module_version": "1.2.0",
          "state": {
            "_model_module": "@jupyter-widgets/base",
            "_model_module_version": "1.2.0",
            "_model_name": "LayoutModel",
            "_view_count": null,
            "_view_module": "@jupyter-widgets/base",
            "_view_module_version": "1.2.0",
            "_view_name": "LayoutView",
            "align_content": null,
            "align_items": null,
            "align_self": null,
            "border": null,
            "bottom": null,
            "display": null,
            "flex": null,
            "flex_flow": null,
            "grid_area": null,
            "grid_auto_columns": null,
            "grid_auto_flow": null,
            "grid_auto_rows": null,
            "grid_column": null,
            "grid_gap": null,
            "grid_row": null,
            "grid_template_areas": null,
            "grid_template_columns": null,
            "grid_template_rows": null,
            "height": null,
            "justify_content": null,
            "justify_items": null,
            "left": null,
            "margin": null,
            "max_height": null,
            "max_width": null,
            "min_height": null,
            "min_width": null,
            "object_fit": null,
            "object_position": null,
            "order": null,
            "overflow": null,
            "overflow_x": null,
            "overflow_y": null,
            "padding": null,
            "right": null,
            "top": null,
            "visibility": null,
            "width": null
          }
        },
        "e0229c042c24438089caf2ca86ee2ac6": {
          "model_module": "@jupyter-widgets/controls",
          "model_name": "DescriptionStyleModel",
          "model_module_version": "1.5.0",
          "state": {
            "_model_module": "@jupyter-widgets/controls",
            "_model_module_version": "1.5.0",
            "_model_name": "DescriptionStyleModel",
            "_view_count": null,
            "_view_module": "@jupyter-widgets/base",
            "_view_module_version": "1.2.0",
            "_view_name": "StyleView",
            "description_width": ""
          }
        },
        "66c2d6be52044b2abbd385141403f18e": {
          "model_module": "@jupyter-widgets/base",
          "model_name": "LayoutModel",
          "model_module_version": "1.2.0",
          "state": {
            "_model_module": "@jupyter-widgets/base",
            "_model_module_version": "1.2.0",
            "_model_name": "LayoutModel",
            "_view_count": null,
            "_view_module": "@jupyter-widgets/base",
            "_view_module_version": "1.2.0",
            "_view_name": "LayoutView",
            "align_content": null,
            "align_items": null,
            "align_self": null,
            "border": null,
            "bottom": null,
            "display": null,
            "flex": null,
            "flex_flow": null,
            "grid_area": null,
            "grid_auto_columns": null,
            "grid_auto_flow": null,
            "grid_auto_rows": null,
            "grid_column": null,
            "grid_gap": null,
            "grid_row": null,
            "grid_template_areas": null,
            "grid_template_columns": null,
            "grid_template_rows": null,
            "height": null,
            "justify_content": null,
            "justify_items": null,
            "left": null,
            "margin": null,
            "max_height": null,
            "max_width": null,
            "min_height": null,
            "min_width": null,
            "object_fit": null,
            "object_position": null,
            "order": null,
            "overflow": null,
            "overflow_x": null,
            "overflow_y": null,
            "padding": null,
            "right": null,
            "top": null,
            "visibility": null,
            "width": null
          }
        },
        "92f6c865c35f4a6281cc0037417613ce": {
          "model_module": "@jupyter-widgets/controls",
          "model_name": "ProgressStyleModel",
          "model_module_version": "1.5.0",
          "state": {
            "_model_module": "@jupyter-widgets/controls",
            "_model_module_version": "1.5.0",
            "_model_name": "ProgressStyleModel",
            "_view_count": null,
            "_view_module": "@jupyter-widgets/base",
            "_view_module_version": "1.2.0",
            "_view_name": "StyleView",
            "bar_color": null,
            "description_width": ""
          }
        },
        "6b99a6ef2e3f463db34b35387ead340d": {
          "model_module": "@jupyter-widgets/base",
          "model_name": "LayoutModel",
          "model_module_version": "1.2.0",
          "state": {
            "_model_module": "@jupyter-widgets/base",
            "_model_module_version": "1.2.0",
            "_model_name": "LayoutModel",
            "_view_count": null,
            "_view_module": "@jupyter-widgets/base",
            "_view_module_version": "1.2.0",
            "_view_name": "LayoutView",
            "align_content": null,
            "align_items": null,
            "align_self": null,
            "border": null,
            "bottom": null,
            "display": null,
            "flex": null,
            "flex_flow": null,
            "grid_area": null,
            "grid_auto_columns": null,
            "grid_auto_flow": null,
            "grid_auto_rows": null,
            "grid_column": null,
            "grid_gap": null,
            "grid_row": null,
            "grid_template_areas": null,
            "grid_template_columns": null,
            "grid_template_rows": null,
            "height": null,
            "justify_content": null,
            "justify_items": null,
            "left": null,
            "margin": null,
            "max_height": null,
            "max_width": null,
            "min_height": null,
            "min_width": null,
            "object_fit": null,
            "object_position": null,
            "order": null,
            "overflow": null,
            "overflow_x": null,
            "overflow_y": null,
            "padding": null,
            "right": null,
            "top": null,
            "visibility": null,
            "width": null
          }
        },
        "7d152d86849b4f6082c0a71348c2e240": {
          "model_module": "@jupyter-widgets/controls",
          "model_name": "DescriptionStyleModel",
          "model_module_version": "1.5.0",
          "state": {
            "_model_module": "@jupyter-widgets/controls",
            "_model_module_version": "1.5.0",
            "_model_name": "DescriptionStyleModel",
            "_view_count": null,
            "_view_module": "@jupyter-widgets/base",
            "_view_module_version": "1.2.0",
            "_view_name": "StyleView",
            "description_width": ""
          }
        },
        "22a2ce2921174c8ea0e464dfe261f936": {
          "model_module": "@jupyter-widgets/controls",
          "model_name": "HBoxModel",
          "model_module_version": "1.5.0",
          "state": {
            "_dom_classes": [],
            "_model_module": "@jupyter-widgets/controls",
            "_model_module_version": "1.5.0",
            "_model_name": "HBoxModel",
            "_view_count": null,
            "_view_module": "@jupyter-widgets/controls",
            "_view_module_version": "1.5.0",
            "_view_name": "HBoxView",
            "box_style": "",
            "children": [
              "IPY_MODEL_255ff7acc5d14a318eb45d4625ed0435",
              "IPY_MODEL_689fc88f79d84ad18ecc2c6637a7b9f4",
              "IPY_MODEL_db28f812f73d4d7d9f496427454eda40"
            ],
            "layout": "IPY_MODEL_7134911e3f46459fb21eaa83a45371e0"
          }
        },
        "255ff7acc5d14a318eb45d4625ed0435": {
          "model_module": "@jupyter-widgets/controls",
          "model_name": "HTMLModel",
          "model_module_version": "1.5.0",
          "state": {
            "_dom_classes": [],
            "_model_module": "@jupyter-widgets/controls",
            "_model_module_version": "1.5.0",
            "_model_name": "HTMLModel",
            "_view_count": null,
            "_view_module": "@jupyter-widgets/controls",
            "_view_module_version": "1.5.0",
            "_view_name": "HTMLView",
            "description": "",
            "description_tooltip": null,
            "layout": "IPY_MODEL_746674a687194f5d96732831aa436bd1",
            "placeholder": "​",
            "style": "IPY_MODEL_ee33bc550d114b899b9bc50552d11ef6",
            "value": "tokenizer_config.json: 100%"
          }
        },
        "689fc88f79d84ad18ecc2c6637a7b9f4": {
          "model_module": "@jupyter-widgets/controls",
          "model_name": "FloatProgressModel",
          "model_module_version": "1.5.0",
          "state": {
            "_dom_classes": [],
            "_model_module": "@jupyter-widgets/controls",
            "_model_module_version": "1.5.0",
            "_model_name": "FloatProgressModel",
            "_view_count": null,
            "_view_module": "@jupyter-widgets/controls",
            "_view_module_version": "1.5.0",
            "_view_name": "ProgressView",
            "bar_style": "success",
            "description": "",
            "description_tooltip": null,
            "layout": "IPY_MODEL_9eda0ea92fc54d7d865fd4b2f7152776",
            "max": 502,
            "min": 0,
            "orientation": "horizontal",
            "style": "IPY_MODEL_fe6801880c084623bdba2fa4131f392e",
            "value": 502
          }
        },
        "db28f812f73d4d7d9f496427454eda40": {
          "model_module": "@jupyter-widgets/controls",
          "model_name": "HTMLModel",
          "model_module_version": "1.5.0",
          "state": {
            "_dom_classes": [],
            "_model_module": "@jupyter-widgets/controls",
            "_model_module_version": "1.5.0",
            "_model_name": "HTMLModel",
            "_view_count": null,
            "_view_module": "@jupyter-widgets/controls",
            "_view_module_version": "1.5.0",
            "_view_name": "HTMLView",
            "description": "",
            "description_tooltip": null,
            "layout": "IPY_MODEL_118f2a48c4c9449aa9447d47ca2fd10d",
            "placeholder": "​",
            "style": "IPY_MODEL_cc32e4e84c524f57a3f5d4e51c31d7e0",
            "value": " 502/502 [00:00&lt;00:00, 19.2kB/s]"
          }
        },
        "7134911e3f46459fb21eaa83a45371e0": {
          "model_module": "@jupyter-widgets/base",
          "model_name": "LayoutModel",
          "model_module_version": "1.2.0",
          "state": {
            "_model_module": "@jupyter-widgets/base",
            "_model_module_version": "1.2.0",
            "_model_name": "LayoutModel",
            "_view_count": null,
            "_view_module": "@jupyter-widgets/base",
            "_view_module_version": "1.2.0",
            "_view_name": "LayoutView",
            "align_content": null,
            "align_items": null,
            "align_self": null,
            "border": null,
            "bottom": null,
            "display": null,
            "flex": null,
            "flex_flow": null,
            "grid_area": null,
            "grid_auto_columns": null,
            "grid_auto_flow": null,
            "grid_auto_rows": null,
            "grid_column": null,
            "grid_gap": null,
            "grid_row": null,
            "grid_template_areas": null,
            "grid_template_columns": null,
            "grid_template_rows": null,
            "height": null,
            "justify_content": null,
            "justify_items": null,
            "left": null,
            "margin": null,
            "max_height": null,
            "max_width": null,
            "min_height": null,
            "min_width": null,
            "object_fit": null,
            "object_position": null,
            "order": null,
            "overflow": null,
            "overflow_x": null,
            "overflow_y": null,
            "padding": null,
            "right": null,
            "top": null,
            "visibility": null,
            "width": null
          }
        },
        "746674a687194f5d96732831aa436bd1": {
          "model_module": "@jupyter-widgets/base",
          "model_name": "LayoutModel",
          "model_module_version": "1.2.0",
          "state": {
            "_model_module": "@jupyter-widgets/base",
            "_model_module_version": "1.2.0",
            "_model_name": "LayoutModel",
            "_view_count": null,
            "_view_module": "@jupyter-widgets/base",
            "_view_module_version": "1.2.0",
            "_view_name": "LayoutView",
            "align_content": null,
            "align_items": null,
            "align_self": null,
            "border": null,
            "bottom": null,
            "display": null,
            "flex": null,
            "flex_flow": null,
            "grid_area": null,
            "grid_auto_columns": null,
            "grid_auto_flow": null,
            "grid_auto_rows": null,
            "grid_column": null,
            "grid_gap": null,
            "grid_row": null,
            "grid_template_areas": null,
            "grid_template_columns": null,
            "grid_template_rows": null,
            "height": null,
            "justify_content": null,
            "justify_items": null,
            "left": null,
            "margin": null,
            "max_height": null,
            "max_width": null,
            "min_height": null,
            "min_width": null,
            "object_fit": null,
            "object_position": null,
            "order": null,
            "overflow": null,
            "overflow_x": null,
            "overflow_y": null,
            "padding": null,
            "right": null,
            "top": null,
            "visibility": null,
            "width": null
          }
        },
        "ee33bc550d114b899b9bc50552d11ef6": {
          "model_module": "@jupyter-widgets/controls",
          "model_name": "DescriptionStyleModel",
          "model_module_version": "1.5.0",
          "state": {
            "_model_module": "@jupyter-widgets/controls",
            "_model_module_version": "1.5.0",
            "_model_name": "DescriptionStyleModel",
            "_view_count": null,
            "_view_module": "@jupyter-widgets/base",
            "_view_module_version": "1.2.0",
            "_view_name": "StyleView",
            "description_width": ""
          }
        },
        "9eda0ea92fc54d7d865fd4b2f7152776": {
          "model_module": "@jupyter-widgets/base",
          "model_name": "LayoutModel",
          "model_module_version": "1.2.0",
          "state": {
            "_model_module": "@jupyter-widgets/base",
            "_model_module_version": "1.2.0",
            "_model_name": "LayoutModel",
            "_view_count": null,
            "_view_module": "@jupyter-widgets/base",
            "_view_module_version": "1.2.0",
            "_view_name": "LayoutView",
            "align_content": null,
            "align_items": null,
            "align_self": null,
            "border": null,
            "bottom": null,
            "display": null,
            "flex": null,
            "flex_flow": null,
            "grid_area": null,
            "grid_auto_columns": null,
            "grid_auto_flow": null,
            "grid_auto_rows": null,
            "grid_column": null,
            "grid_gap": null,
            "grid_row": null,
            "grid_template_areas": null,
            "grid_template_columns": null,
            "grid_template_rows": null,
            "height": null,
            "justify_content": null,
            "justify_items": null,
            "left": null,
            "margin": null,
            "max_height": null,
            "max_width": null,
            "min_height": null,
            "min_width": null,
            "object_fit": null,
            "object_position": null,
            "order": null,
            "overflow": null,
            "overflow_x": null,
            "overflow_y": null,
            "padding": null,
            "right": null,
            "top": null,
            "visibility": null,
            "width": null
          }
        },
        "fe6801880c084623bdba2fa4131f392e": {
          "model_module": "@jupyter-widgets/controls",
          "model_name": "ProgressStyleModel",
          "model_module_version": "1.5.0",
          "state": {
            "_model_module": "@jupyter-widgets/controls",
            "_model_module_version": "1.5.0",
            "_model_name": "ProgressStyleModel",
            "_view_count": null,
            "_view_module": "@jupyter-widgets/base",
            "_view_module_version": "1.2.0",
            "_view_name": "StyleView",
            "bar_color": null,
            "description_width": ""
          }
        },
        "118f2a48c4c9449aa9447d47ca2fd10d": {
          "model_module": "@jupyter-widgets/base",
          "model_name": "LayoutModel",
          "model_module_version": "1.2.0",
          "state": {
            "_model_module": "@jupyter-widgets/base",
            "_model_module_version": "1.2.0",
            "_model_name": "LayoutModel",
            "_view_count": null,
            "_view_module": "@jupyter-widgets/base",
            "_view_module_version": "1.2.0",
            "_view_name": "LayoutView",
            "align_content": null,
            "align_items": null,
            "align_self": null,
            "border": null,
            "bottom": null,
            "display": null,
            "flex": null,
            "flex_flow": null,
            "grid_area": null,
            "grid_auto_columns": null,
            "grid_auto_flow": null,
            "grid_auto_rows": null,
            "grid_column": null,
            "grid_gap": null,
            "grid_row": null,
            "grid_template_areas": null,
            "grid_template_columns": null,
            "grid_template_rows": null,
            "height": null,
            "justify_content": null,
            "justify_items": null,
            "left": null,
            "margin": null,
            "max_height": null,
            "max_width": null,
            "min_height": null,
            "min_width": null,
            "object_fit": null,
            "object_position": null,
            "order": null,
            "overflow": null,
            "overflow_x": null,
            "overflow_y": null,
            "padding": null,
            "right": null,
            "top": null,
            "visibility": null,
            "width": null
          }
        },
        "cc32e4e84c524f57a3f5d4e51c31d7e0": {
          "model_module": "@jupyter-widgets/controls",
          "model_name": "DescriptionStyleModel",
          "model_module_version": "1.5.0",
          "state": {
            "_model_module": "@jupyter-widgets/controls",
            "_model_module_version": "1.5.0",
            "_model_name": "DescriptionStyleModel",
            "_view_count": null,
            "_view_module": "@jupyter-widgets/base",
            "_view_module_version": "1.2.0",
            "_view_name": "StyleView",
            "description_width": ""
          }
        },
        "21182a15e15048abb6ae443d9b29b7ca": {
          "model_module": "@jupyter-widgets/controls",
          "model_name": "HBoxModel",
          "model_module_version": "1.5.0",
          "state": {
            "_dom_classes": [],
            "_model_module": "@jupyter-widgets/controls",
            "_model_module_version": "1.5.0",
            "_model_name": "HBoxModel",
            "_view_count": null,
            "_view_module": "@jupyter-widgets/controls",
            "_view_module_version": "1.5.0",
            "_view_name": "HBoxView",
            "box_style": "",
            "children": [
              "IPY_MODEL_9a9bcd1c41c04863af974d49217bb520",
              "IPY_MODEL_fcd3aa1a343749539872bef131ba4f1c",
              "IPY_MODEL_d6108a6cfe0743c2b05f50e9b40bef4f"
            ],
            "layout": "IPY_MODEL_18bb7006571d4da3841a39089905f5ad"
          }
        },
        "9a9bcd1c41c04863af974d49217bb520": {
          "model_module": "@jupyter-widgets/controls",
          "model_name": "HTMLModel",
          "model_module_version": "1.5.0",
          "state": {
            "_dom_classes": [],
            "_model_module": "@jupyter-widgets/controls",
            "_model_module_version": "1.5.0",
            "_model_name": "HTMLModel",
            "_view_count": null,
            "_view_module": "@jupyter-widgets/controls",
            "_view_module_version": "1.5.0",
            "_view_name": "HTMLView",
            "description": "",
            "description_tooltip": null,
            "layout": "IPY_MODEL_72e7838df82e4ff8a51bfdc25f4c6f03",
            "placeholder": "​",
            "style": "IPY_MODEL_2cab4aba9e554800a9321e6e2e82fc2d",
            "value": "sentencepiece.bpe.model: 100%"
          }
        },
        "fcd3aa1a343749539872bef131ba4f1c": {
          "model_module": "@jupyter-widgets/controls",
          "model_name": "FloatProgressModel",
          "model_module_version": "1.5.0",
          "state": {
            "_dom_classes": [],
            "_model_module": "@jupyter-widgets/controls",
            "_model_module_version": "1.5.0",
            "_model_name": "FloatProgressModel",
            "_view_count": null,
            "_view_module": "@jupyter-widgets/controls",
            "_view_module_version": "1.5.0",
            "_view_name": "ProgressView",
            "bar_style": "success",
            "description": "",
            "description_tooltip": null,
            "layout": "IPY_MODEL_2187867fd83b4f6383c120cc285ba42b",
            "max": 5069051,
            "min": 0,
            "orientation": "horizontal",
            "style": "IPY_MODEL_b460b08b35fc474da43b0497e0a7a57c",
            "value": 5069051
          }
        },
        "d6108a6cfe0743c2b05f50e9b40bef4f": {
          "model_module": "@jupyter-widgets/controls",
          "model_name": "HTMLModel",
          "model_module_version": "1.5.0",
          "state": {
            "_dom_classes": [],
            "_model_module": "@jupyter-widgets/controls",
            "_model_module_version": "1.5.0",
            "_model_name": "HTMLModel",
            "_view_count": null,
            "_view_module": "@jupyter-widgets/controls",
            "_view_module_version": "1.5.0",
            "_view_name": "HTMLView",
            "description": "",
            "description_tooltip": null,
            "layout": "IPY_MODEL_6ceacb5b3b574180924204dc4d40e63c",
            "placeholder": "​",
            "style": "IPY_MODEL_b86f4cbd51b640a9bc7afbffa25826bb",
            "value": " 5.07M/5.07M [00:00&lt;00:00, 63.3MB/s]"
          }
        },
        "18bb7006571d4da3841a39089905f5ad": {
          "model_module": "@jupyter-widgets/base",
          "model_name": "LayoutModel",
          "model_module_version": "1.2.0",
          "state": {
            "_model_module": "@jupyter-widgets/base",
            "_model_module_version": "1.2.0",
            "_model_name": "LayoutModel",
            "_view_count": null,
            "_view_module": "@jupyter-widgets/base",
            "_view_module_version": "1.2.0",
            "_view_name": "LayoutView",
            "align_content": null,
            "align_items": null,
            "align_self": null,
            "border": null,
            "bottom": null,
            "display": null,
            "flex": null,
            "flex_flow": null,
            "grid_area": null,
            "grid_auto_columns": null,
            "grid_auto_flow": null,
            "grid_auto_rows": null,
            "grid_column": null,
            "grid_gap": null,
            "grid_row": null,
            "grid_template_areas": null,
            "grid_template_columns": null,
            "grid_template_rows": null,
            "height": null,
            "justify_content": null,
            "justify_items": null,
            "left": null,
            "margin": null,
            "max_height": null,
            "max_width": null,
            "min_height": null,
            "min_width": null,
            "object_fit": null,
            "object_position": null,
            "order": null,
            "overflow": null,
            "overflow_x": null,
            "overflow_y": null,
            "padding": null,
            "right": null,
            "top": null,
            "visibility": null,
            "width": null
          }
        },
        "72e7838df82e4ff8a51bfdc25f4c6f03": {
          "model_module": "@jupyter-widgets/base",
          "model_name": "LayoutModel",
          "model_module_version": "1.2.0",
          "state": {
            "_model_module": "@jupyter-widgets/base",
            "_model_module_version": "1.2.0",
            "_model_name": "LayoutModel",
            "_view_count": null,
            "_view_module": "@jupyter-widgets/base",
            "_view_module_version": "1.2.0",
            "_view_name": "LayoutView",
            "align_content": null,
            "align_items": null,
            "align_self": null,
            "border": null,
            "bottom": null,
            "display": null,
            "flex": null,
            "flex_flow": null,
            "grid_area": null,
            "grid_auto_columns": null,
            "grid_auto_flow": null,
            "grid_auto_rows": null,
            "grid_column": null,
            "grid_gap": null,
            "grid_row": null,
            "grid_template_areas": null,
            "grid_template_columns": null,
            "grid_template_rows": null,
            "height": null,
            "justify_content": null,
            "justify_items": null,
            "left": null,
            "margin": null,
            "max_height": null,
            "max_width": null,
            "min_height": null,
            "min_width": null,
            "object_fit": null,
            "object_position": null,
            "order": null,
            "overflow": null,
            "overflow_x": null,
            "overflow_y": null,
            "padding": null,
            "right": null,
            "top": null,
            "visibility": null,
            "width": null
          }
        },
        "2cab4aba9e554800a9321e6e2e82fc2d": {
          "model_module": "@jupyter-widgets/controls",
          "model_name": "DescriptionStyleModel",
          "model_module_version": "1.5.0",
          "state": {
            "_model_module": "@jupyter-widgets/controls",
            "_model_module_version": "1.5.0",
            "_model_name": "DescriptionStyleModel",
            "_view_count": null,
            "_view_module": "@jupyter-widgets/base",
            "_view_module_version": "1.2.0",
            "_view_name": "StyleView",
            "description_width": ""
          }
        },
        "2187867fd83b4f6383c120cc285ba42b": {
          "model_module": "@jupyter-widgets/base",
          "model_name": "LayoutModel",
          "model_module_version": "1.2.0",
          "state": {
            "_model_module": "@jupyter-widgets/base",
            "_model_module_version": "1.2.0",
            "_model_name": "LayoutModel",
            "_view_count": null,
            "_view_module": "@jupyter-widgets/base",
            "_view_module_version": "1.2.0",
            "_view_name": "LayoutView",
            "align_content": null,
            "align_items": null,
            "align_self": null,
            "border": null,
            "bottom": null,
            "display": null,
            "flex": null,
            "flex_flow": null,
            "grid_area": null,
            "grid_auto_columns": null,
            "grid_auto_flow": null,
            "grid_auto_rows": null,
            "grid_column": null,
            "grid_gap": null,
            "grid_row": null,
            "grid_template_areas": null,
            "grid_template_columns": null,
            "grid_template_rows": null,
            "height": null,
            "justify_content": null,
            "justify_items": null,
            "left": null,
            "margin": null,
            "max_height": null,
            "max_width": null,
            "min_height": null,
            "min_width": null,
            "object_fit": null,
            "object_position": null,
            "order": null,
            "overflow": null,
            "overflow_x": null,
            "overflow_y": null,
            "padding": null,
            "right": null,
            "top": null,
            "visibility": null,
            "width": null
          }
        },
        "b460b08b35fc474da43b0497e0a7a57c": {
          "model_module": "@jupyter-widgets/controls",
          "model_name": "ProgressStyleModel",
          "model_module_version": "1.5.0",
          "state": {
            "_model_module": "@jupyter-widgets/controls",
            "_model_module_version": "1.5.0",
            "_model_name": "ProgressStyleModel",
            "_view_count": null,
            "_view_module": "@jupyter-widgets/base",
            "_view_module_version": "1.2.0",
            "_view_name": "StyleView",
            "bar_color": null,
            "description_width": ""
          }
        },
        "6ceacb5b3b574180924204dc4d40e63c": {
          "model_module": "@jupyter-widgets/base",
          "model_name": "LayoutModel",
          "model_module_version": "1.2.0",
          "state": {
            "_model_module": "@jupyter-widgets/base",
            "_model_module_version": "1.2.0",
            "_model_name": "LayoutModel",
            "_view_count": null,
            "_view_module": "@jupyter-widgets/base",
            "_view_module_version": "1.2.0",
            "_view_name": "LayoutView",
            "align_content": null,
            "align_items": null,
            "align_self": null,
            "border": null,
            "bottom": null,
            "display": null,
            "flex": null,
            "flex_flow": null,
            "grid_area": null,
            "grid_auto_columns": null,
            "grid_auto_flow": null,
            "grid_auto_rows": null,
            "grid_column": null,
            "grid_gap": null,
            "grid_row": null,
            "grid_template_areas": null,
            "grid_template_columns": null,
            "grid_template_rows": null,
            "height": null,
            "justify_content": null,
            "justify_items": null,
            "left": null,
            "margin": null,
            "max_height": null,
            "max_width": null,
            "min_height": null,
            "min_width": null,
            "object_fit": null,
            "object_position": null,
            "order": null,
            "overflow": null,
            "overflow_x": null,
            "overflow_y": null,
            "padding": null,
            "right": null,
            "top": null,
            "visibility": null,
            "width": null
          }
        },
        "b86f4cbd51b640a9bc7afbffa25826bb": {
          "model_module": "@jupyter-widgets/controls",
          "model_name": "DescriptionStyleModel",
          "model_module_version": "1.5.0",
          "state": {
            "_model_module": "@jupyter-widgets/controls",
            "_model_module_version": "1.5.0",
            "_model_name": "DescriptionStyleModel",
            "_view_count": null,
            "_view_module": "@jupyter-widgets/base",
            "_view_module_version": "1.2.0",
            "_view_name": "StyleView",
            "description_width": ""
          }
        },
        "1cca1ba8777b4bc4890c75568923ae00": {
          "model_module": "@jupyter-widgets/controls",
          "model_name": "HBoxModel",
          "model_module_version": "1.5.0",
          "state": {
            "_dom_classes": [],
            "_model_module": "@jupyter-widgets/controls",
            "_model_module_version": "1.5.0",
            "_model_name": "HBoxModel",
            "_view_count": null,
            "_view_module": "@jupyter-widgets/controls",
            "_view_module_version": "1.5.0",
            "_view_name": "HBoxView",
            "box_style": "",
            "children": [
              "IPY_MODEL_5a491ea2d8514cadad843692b2428ff9",
              "IPY_MODEL_33412f1f2059423c851267cada099947",
              "IPY_MODEL_897e35c11437417b938f8b3e94ca75c5"
            ],
            "layout": "IPY_MODEL_387db006cfaf4164b33a7f04e322d90e"
          }
        },
        "5a491ea2d8514cadad843692b2428ff9": {
          "model_module": "@jupyter-widgets/controls",
          "model_name": "HTMLModel",
          "model_module_version": "1.5.0",
          "state": {
            "_dom_classes": [],
            "_model_module": "@jupyter-widgets/controls",
            "_model_module_version": "1.5.0",
            "_model_name": "HTMLModel",
            "_view_count": null,
            "_view_module": "@jupyter-widgets/controls",
            "_view_module_version": "1.5.0",
            "_view_name": "HTMLView",
            "description": "",
            "description_tooltip": null,
            "layout": "IPY_MODEL_33e61d303cfd415bbc606a9b69bc95c0",
            "placeholder": "​",
            "style": "IPY_MODEL_59cbb49c690048a987cbb175eb1a32c2",
            "value": "tokenizer.json: 100%"
          }
        },
        "33412f1f2059423c851267cada099947": {
          "model_module": "@jupyter-widgets/controls",
          "model_name": "FloatProgressModel",
          "model_module_version": "1.5.0",
          "state": {
            "_dom_classes": [],
            "_model_module": "@jupyter-widgets/controls",
            "_model_module_version": "1.5.0",
            "_model_name": "FloatProgressModel",
            "_view_count": null,
            "_view_module": "@jupyter-widgets/controls",
            "_view_module_version": "1.5.0",
            "_view_name": "ProgressView",
            "bar_style": "success",
            "description": "",
            "description_tooltip": null,
            "layout": "IPY_MODEL_4bd22aea6e1c407da78a857b486a83e3",
            "max": 9081351,
            "min": 0,
            "orientation": "horizontal",
            "style": "IPY_MODEL_0b002cce9bd6450b9ed29a5d2a6d58b6",
            "value": 9081351
          }
        },
        "897e35c11437417b938f8b3e94ca75c5": {
          "model_module": "@jupyter-widgets/controls",
          "model_name": "HTMLModel",
          "model_module_version": "1.5.0",
          "state": {
            "_dom_classes": [],
            "_model_module": "@jupyter-widgets/controls",
            "_model_module_version": "1.5.0",
            "_model_name": "HTMLModel",
            "_view_count": null,
            "_view_module": "@jupyter-widgets/controls",
            "_view_module_version": "1.5.0",
            "_view_name": "HTMLView",
            "description": "",
            "description_tooltip": null,
            "layout": "IPY_MODEL_2cf4a3e6f86d4e2294326fcbce8c6b05",
            "placeholder": "​",
            "style": "IPY_MODEL_69d0741bfc664a0d84b8b8acb28379b8",
            "value": " 9.08M/9.08M [00:00&lt;00:00, 32.1MB/s]"
          }
        },
        "387db006cfaf4164b33a7f04e322d90e": {
          "model_module": "@jupyter-widgets/base",
          "model_name": "LayoutModel",
          "model_module_version": "1.2.0",
          "state": {
            "_model_module": "@jupyter-widgets/base",
            "_model_module_version": "1.2.0",
            "_model_name": "LayoutModel",
            "_view_count": null,
            "_view_module": "@jupyter-widgets/base",
            "_view_module_version": "1.2.0",
            "_view_name": "LayoutView",
            "align_content": null,
            "align_items": null,
            "align_self": null,
            "border": null,
            "bottom": null,
            "display": null,
            "flex": null,
            "flex_flow": null,
            "grid_area": null,
            "grid_auto_columns": null,
            "grid_auto_flow": null,
            "grid_auto_rows": null,
            "grid_column": null,
            "grid_gap": null,
            "grid_row": null,
            "grid_template_areas": null,
            "grid_template_columns": null,
            "grid_template_rows": null,
            "height": null,
            "justify_content": null,
            "justify_items": null,
            "left": null,
            "margin": null,
            "max_height": null,
            "max_width": null,
            "min_height": null,
            "min_width": null,
            "object_fit": null,
            "object_position": null,
            "order": null,
            "overflow": null,
            "overflow_x": null,
            "overflow_y": null,
            "padding": null,
            "right": null,
            "top": null,
            "visibility": null,
            "width": null
          }
        },
        "33e61d303cfd415bbc606a9b69bc95c0": {
          "model_module": "@jupyter-widgets/base",
          "model_name": "LayoutModel",
          "model_module_version": "1.2.0",
          "state": {
            "_model_module": "@jupyter-widgets/base",
            "_model_module_version": "1.2.0",
            "_model_name": "LayoutModel",
            "_view_count": null,
            "_view_module": "@jupyter-widgets/base",
            "_view_module_version": "1.2.0",
            "_view_name": "LayoutView",
            "align_content": null,
            "align_items": null,
            "align_self": null,
            "border": null,
            "bottom": null,
            "display": null,
            "flex": null,
            "flex_flow": null,
            "grid_area": null,
            "grid_auto_columns": null,
            "grid_auto_flow": null,
            "grid_auto_rows": null,
            "grid_column": null,
            "grid_gap": null,
            "grid_row": null,
            "grid_template_areas": null,
            "grid_template_columns": null,
            "grid_template_rows": null,
            "height": null,
            "justify_content": null,
            "justify_items": null,
            "left": null,
            "margin": null,
            "max_height": null,
            "max_width": null,
            "min_height": null,
            "min_width": null,
            "object_fit": null,
            "object_position": null,
            "order": null,
            "overflow": null,
            "overflow_x": null,
            "overflow_y": null,
            "padding": null,
            "right": null,
            "top": null,
            "visibility": null,
            "width": null
          }
        },
        "59cbb49c690048a987cbb175eb1a32c2": {
          "model_module": "@jupyter-widgets/controls",
          "model_name": "DescriptionStyleModel",
          "model_module_version": "1.5.0",
          "state": {
            "_model_module": "@jupyter-widgets/controls",
            "_model_module_version": "1.5.0",
            "_model_name": "DescriptionStyleModel",
            "_view_count": null,
            "_view_module": "@jupyter-widgets/base",
            "_view_module_version": "1.2.0",
            "_view_name": "StyleView",
            "description_width": ""
          }
        },
        "4bd22aea6e1c407da78a857b486a83e3": {
          "model_module": "@jupyter-widgets/base",
          "model_name": "LayoutModel",
          "model_module_version": "1.2.0",
          "state": {
            "_model_module": "@jupyter-widgets/base",
            "_model_module_version": "1.2.0",
            "_model_name": "LayoutModel",
            "_view_count": null,
            "_view_module": "@jupyter-widgets/base",
            "_view_module_version": "1.2.0",
            "_view_name": "LayoutView",
            "align_content": null,
            "align_items": null,
            "align_self": null,
            "border": null,
            "bottom": null,
            "display": null,
            "flex": null,
            "flex_flow": null,
            "grid_area": null,
            "grid_auto_columns": null,
            "grid_auto_flow": null,
            "grid_auto_rows": null,
            "grid_column": null,
            "grid_gap": null,
            "grid_row": null,
            "grid_template_areas": null,
            "grid_template_columns": null,
            "grid_template_rows": null,
            "height": null,
            "justify_content": null,
            "justify_items": null,
            "left": null,
            "margin": null,
            "max_height": null,
            "max_width": null,
            "min_height": null,
            "min_width": null,
            "object_fit": null,
            "object_position": null,
            "order": null,
            "overflow": null,
            "overflow_x": null,
            "overflow_y": null,
            "padding": null,
            "right": null,
            "top": null,
            "visibility": null,
            "width": null
          }
        },
        "0b002cce9bd6450b9ed29a5d2a6d58b6": {
          "model_module": "@jupyter-widgets/controls",
          "model_name": "ProgressStyleModel",
          "model_module_version": "1.5.0",
          "state": {
            "_model_module": "@jupyter-widgets/controls",
            "_model_module_version": "1.5.0",
            "_model_name": "ProgressStyleModel",
            "_view_count": null,
            "_view_module": "@jupyter-widgets/base",
            "_view_module_version": "1.2.0",
            "_view_name": "StyleView",
            "bar_color": null,
            "description_width": ""
          }
        },
        "2cf4a3e6f86d4e2294326fcbce8c6b05": {
          "model_module": "@jupyter-widgets/base",
          "model_name": "LayoutModel",
          "model_module_version": "1.2.0",
          "state": {
            "_model_module": "@jupyter-widgets/base",
            "_model_module_version": "1.2.0",
            "_model_name": "LayoutModel",
            "_view_count": null,
            "_view_module": "@jupyter-widgets/base",
            "_view_module_version": "1.2.0",
            "_view_name": "LayoutView",
            "align_content": null,
            "align_items": null,
            "align_self": null,
            "border": null,
            "bottom": null,
            "display": null,
            "flex": null,
            "flex_flow": null,
            "grid_area": null,
            "grid_auto_columns": null,
            "grid_auto_flow": null,
            "grid_auto_rows": null,
            "grid_column": null,
            "grid_gap": null,
            "grid_row": null,
            "grid_template_areas": null,
            "grid_template_columns": null,
            "grid_template_rows": null,
            "height": null,
            "justify_content": null,
            "justify_items": null,
            "left": null,
            "margin": null,
            "max_height": null,
            "max_width": null,
            "min_height": null,
            "min_width": null,
            "object_fit": null,
            "object_position": null,
            "order": null,
            "overflow": null,
            "overflow_x": null,
            "overflow_y": null,
            "padding": null,
            "right": null,
            "top": null,
            "visibility": null,
            "width": null
          }
        },
        "69d0741bfc664a0d84b8b8acb28379b8": {
          "model_module": "@jupyter-widgets/controls",
          "model_name": "DescriptionStyleModel",
          "model_module_version": "1.5.0",
          "state": {
            "_model_module": "@jupyter-widgets/controls",
            "_model_module_version": "1.5.0",
            "_model_name": "DescriptionStyleModel",
            "_view_count": null,
            "_view_module": "@jupyter-widgets/base",
            "_view_module_version": "1.2.0",
            "_view_name": "StyleView",
            "description_width": ""
          }
        },
        "6b708270554e4ed5848e9370ab604f3f": {
          "model_module": "@jupyter-widgets/controls",
          "model_name": "HBoxModel",
          "model_module_version": "1.5.0",
          "state": {
            "_dom_classes": [],
            "_model_module": "@jupyter-widgets/controls",
            "_model_module_version": "1.5.0",
            "_model_name": "HBoxModel",
            "_view_count": null,
            "_view_module": "@jupyter-widgets/controls",
            "_view_module_version": "1.5.0",
            "_view_name": "HBoxView",
            "box_style": "",
            "children": [
              "IPY_MODEL_9b6c9adaf63d4671ab300a10a7dedfcd",
              "IPY_MODEL_1efae356a5714ae7a88ece20028a263f",
              "IPY_MODEL_9458f9517ccd4b668e5665b99fb51031"
            ],
            "layout": "IPY_MODEL_7531ea302f454df898791d7a70d1c7ad"
          }
        },
        "9b6c9adaf63d4671ab300a10a7dedfcd": {
          "model_module": "@jupyter-widgets/controls",
          "model_name": "HTMLModel",
          "model_module_version": "1.5.0",
          "state": {
            "_dom_classes": [],
            "_model_module": "@jupyter-widgets/controls",
            "_model_module_version": "1.5.0",
            "_model_name": "HTMLModel",
            "_view_count": null,
            "_view_module": "@jupyter-widgets/controls",
            "_view_module_version": "1.5.0",
            "_view_name": "HTMLView",
            "description": "",
            "description_tooltip": null,
            "layout": "IPY_MODEL_f8600790c5874a2998cce1111dbf67c5",
            "placeholder": "​",
            "style": "IPY_MODEL_4439c408d0e74728b698f1089735a32a",
            "value": "special_tokens_map.json: 100%"
          }
        },
        "1efae356a5714ae7a88ece20028a263f": {
          "model_module": "@jupyter-widgets/controls",
          "model_name": "FloatProgressModel",
          "model_module_version": "1.5.0",
          "state": {
            "_dom_classes": [],
            "_model_module": "@jupyter-widgets/controls",
            "_model_module_version": "1.5.0",
            "_model_name": "FloatProgressModel",
            "_view_count": null,
            "_view_module": "@jupyter-widgets/controls",
            "_view_module_version": "1.5.0",
            "_view_name": "ProgressView",
            "bar_style": "success",
            "description": "",
            "description_tooltip": null,
            "layout": "IPY_MODEL_b08779621dd04d9a8c9f87c1d5997f8a",
            "max": 239,
            "min": 0,
            "orientation": "horizontal",
            "style": "IPY_MODEL_53924197061d42c39bbbabcbe14a0a35",
            "value": 239
          }
        },
        "9458f9517ccd4b668e5665b99fb51031": {
          "model_module": "@jupyter-widgets/controls",
          "model_name": "HTMLModel",
          "model_module_version": "1.5.0",
          "state": {
            "_dom_classes": [],
            "_model_module": "@jupyter-widgets/controls",
            "_model_module_version": "1.5.0",
            "_model_name": "HTMLModel",
            "_view_count": null,
            "_view_module": "@jupyter-widgets/controls",
            "_view_module_version": "1.5.0",
            "_view_name": "HTMLView",
            "description": "",
            "description_tooltip": null,
            "layout": "IPY_MODEL_7ffda7efb0b84bba9b55da032faadf9f",
            "placeholder": "​",
            "style": "IPY_MODEL_0df8dfb7c5084f8c93e7cd6827be9c32",
            "value": " 239/239 [00:00&lt;00:00, 7.70kB/s]"
          }
        },
        "7531ea302f454df898791d7a70d1c7ad": {
          "model_module": "@jupyter-widgets/base",
          "model_name": "LayoutModel",
          "model_module_version": "1.2.0",
          "state": {
            "_model_module": "@jupyter-widgets/base",
            "_model_module_version": "1.2.0",
            "_model_name": "LayoutModel",
            "_view_count": null,
            "_view_module": "@jupyter-widgets/base",
            "_view_module_version": "1.2.0",
            "_view_name": "LayoutView",
            "align_content": null,
            "align_items": null,
            "align_self": null,
            "border": null,
            "bottom": null,
            "display": null,
            "flex": null,
            "flex_flow": null,
            "grid_area": null,
            "grid_auto_columns": null,
            "grid_auto_flow": null,
            "grid_auto_rows": null,
            "grid_column": null,
            "grid_gap": null,
            "grid_row": null,
            "grid_template_areas": null,
            "grid_template_columns": null,
            "grid_template_rows": null,
            "height": null,
            "justify_content": null,
            "justify_items": null,
            "left": null,
            "margin": null,
            "max_height": null,
            "max_width": null,
            "min_height": null,
            "min_width": null,
            "object_fit": null,
            "object_position": null,
            "order": null,
            "overflow": null,
            "overflow_x": null,
            "overflow_y": null,
            "padding": null,
            "right": null,
            "top": null,
            "visibility": null,
            "width": null
          }
        },
        "f8600790c5874a2998cce1111dbf67c5": {
          "model_module": "@jupyter-widgets/base",
          "model_name": "LayoutModel",
          "model_module_version": "1.2.0",
          "state": {
            "_model_module": "@jupyter-widgets/base",
            "_model_module_version": "1.2.0",
            "_model_name": "LayoutModel",
            "_view_count": null,
            "_view_module": "@jupyter-widgets/base",
            "_view_module_version": "1.2.0",
            "_view_name": "LayoutView",
            "align_content": null,
            "align_items": null,
            "align_self": null,
            "border": null,
            "bottom": null,
            "display": null,
            "flex": null,
            "flex_flow": null,
            "grid_area": null,
            "grid_auto_columns": null,
            "grid_auto_flow": null,
            "grid_auto_rows": null,
            "grid_column": null,
            "grid_gap": null,
            "grid_row": null,
            "grid_template_areas": null,
            "grid_template_columns": null,
            "grid_template_rows": null,
            "height": null,
            "justify_content": null,
            "justify_items": null,
            "left": null,
            "margin": null,
            "max_height": null,
            "max_width": null,
            "min_height": null,
            "min_width": null,
            "object_fit": null,
            "object_position": null,
            "order": null,
            "overflow": null,
            "overflow_x": null,
            "overflow_y": null,
            "padding": null,
            "right": null,
            "top": null,
            "visibility": null,
            "width": null
          }
        },
        "4439c408d0e74728b698f1089735a32a": {
          "model_module": "@jupyter-widgets/controls",
          "model_name": "DescriptionStyleModel",
          "model_module_version": "1.5.0",
          "state": {
            "_model_module": "@jupyter-widgets/controls",
            "_model_module_version": "1.5.0",
            "_model_name": "DescriptionStyleModel",
            "_view_count": null,
            "_view_module": "@jupyter-widgets/base",
            "_view_module_version": "1.2.0",
            "_view_name": "StyleView",
            "description_width": ""
          }
        },
        "b08779621dd04d9a8c9f87c1d5997f8a": {
          "model_module": "@jupyter-widgets/base",
          "model_name": "LayoutModel",
          "model_module_version": "1.2.0",
          "state": {
            "_model_module": "@jupyter-widgets/base",
            "_model_module_version": "1.2.0",
            "_model_name": "LayoutModel",
            "_view_count": null,
            "_view_module": "@jupyter-widgets/base",
            "_view_module_version": "1.2.0",
            "_view_name": "LayoutView",
            "align_content": null,
            "align_items": null,
            "align_self": null,
            "border": null,
            "bottom": null,
            "display": null,
            "flex": null,
            "flex_flow": null,
            "grid_area": null,
            "grid_auto_columns": null,
            "grid_auto_flow": null,
            "grid_auto_rows": null,
            "grid_column": null,
            "grid_gap": null,
            "grid_row": null,
            "grid_template_areas": null,
            "grid_template_columns": null,
            "grid_template_rows": null,
            "height": null,
            "justify_content": null,
            "justify_items": null,
            "left": null,
            "margin": null,
            "max_height": null,
            "max_width": null,
            "min_height": null,
            "min_width": null,
            "object_fit": null,
            "object_position": null,
            "order": null,
            "overflow": null,
            "overflow_x": null,
            "overflow_y": null,
            "padding": null,
            "right": null,
            "top": null,
            "visibility": null,
            "width": null
          }
        },
        "53924197061d42c39bbbabcbe14a0a35": {
          "model_module": "@jupyter-widgets/controls",
          "model_name": "ProgressStyleModel",
          "model_module_version": "1.5.0",
          "state": {
            "_model_module": "@jupyter-widgets/controls",
            "_model_module_version": "1.5.0",
            "_model_name": "ProgressStyleModel",
            "_view_count": null,
            "_view_module": "@jupyter-widgets/base",
            "_view_module_version": "1.2.0",
            "_view_name": "StyleView",
            "bar_color": null,
            "description_width": ""
          }
        },
        "7ffda7efb0b84bba9b55da032faadf9f": {
          "model_module": "@jupyter-widgets/base",
          "model_name": "LayoutModel",
          "model_module_version": "1.2.0",
          "state": {
            "_model_module": "@jupyter-widgets/base",
            "_model_module_version": "1.2.0",
            "_model_name": "LayoutModel",
            "_view_count": null,
            "_view_module": "@jupyter-widgets/base",
            "_view_module_version": "1.2.0",
            "_view_name": "LayoutView",
            "align_content": null,
            "align_items": null,
            "align_self": null,
            "border": null,
            "bottom": null,
            "display": null,
            "flex": null,
            "flex_flow": null,
            "grid_area": null,
            "grid_auto_columns": null,
            "grid_auto_flow": null,
            "grid_auto_rows": null,
            "grid_column": null,
            "grid_gap": null,
            "grid_row": null,
            "grid_template_areas": null,
            "grid_template_columns": null,
            "grid_template_rows": null,
            "height": null,
            "justify_content": null,
            "justify_items": null,
            "left": null,
            "margin": null,
            "max_height": null,
            "max_width": null,
            "min_height": null,
            "min_width": null,
            "object_fit": null,
            "object_position": null,
            "order": null,
            "overflow": null,
            "overflow_x": null,
            "overflow_y": null,
            "padding": null,
            "right": null,
            "top": null,
            "visibility": null,
            "width": null
          }
        },
        "0df8dfb7c5084f8c93e7cd6827be9c32": {
          "model_module": "@jupyter-widgets/controls",
          "model_name": "DescriptionStyleModel",
          "model_module_version": "1.5.0",
          "state": {
            "_model_module": "@jupyter-widgets/controls",
            "_model_module_version": "1.5.0",
            "_model_name": "DescriptionStyleModel",
            "_view_count": null,
            "_view_module": "@jupyter-widgets/base",
            "_view_module_version": "1.2.0",
            "_view_name": "StyleView",
            "description_width": ""
          }
        }
      }
    }
  },
  "nbformat": 4,
  "nbformat_minor": 0
}